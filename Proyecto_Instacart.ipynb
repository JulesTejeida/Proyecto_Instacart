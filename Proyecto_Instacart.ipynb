{
 "cells": [
  {
   "cell_type": "markdown",
   "id": "mhIvmmkW414q",
   "metadata": {
    "id": "mhIvmmkW414q"
   },
   "source": [
    "# Introducción\n",
    "\n",
    "Instacart es una plataforma de entregas de comestibles donde la clientela puede registrar un pedido y hacer que se lo entreguen, similar a Uber Eats y Door Dash.\n",
    "El conjunto de datos tiene modificaciones del original. Se Redujo el tamaño del conjunto para que los cálculos se hicieran más se tuvo cuidado de conservar las distribuciones de los datos originales cuando se hicieron los cambios.\n",
    "\n",
    "En éste análisis se ejecuta una breve introducción que refleja con claridad cómo se resuelve cada paso, y se describen párrafos explicatorios que justifican las decisiones.  Se incluye una conclusión que resume loss hallazgos y elecciones.\n"
   ]
  },
  {
   "cell_type": "markdown",
   "id": "3MbyzpOQZ5Or",
   "metadata": {
    "id": "3MbyzpOQZ5Or"
   },
   "source": [
    "## Diccionario de datos\n",
    "\n",
    "Existen 5 tablas con la siguiente informacion.\n",
    "\n",
    "- `instacart_orders.csv`: cada fila corresponde a un pedido en la aplicación Instacart.\n",
    "    - `'order_id'`: número de ID que identifica de manera única cada pedido.\n",
    "    - `'user_id'`: número de ID que identifica de manera única la cuenta de cada cliente.\n",
    "    - `'order_number'`: el número de veces que este cliente ha hecho un pedido.\n",
    "    - `'order_dow'`: día de la semana en que se hizo el pedido (0 si es domingo).\n",
    "    - `'order_hour_of_day'`: hora del día en que se hizo el pedido.\n",
    "    - `'days_since_prior_order'`: número de días transcurridos desde que este cliente hizo su pedido anterior.\n",
    "- `products.csv`: cada fila corresponde a un producto único que pueden comprar los clientes.\n",
    "    - `'product_id'`: número ID que identifica de manera única cada producto.\n",
    "    - `'product_name'`: nombre del producto.\n",
    "    - `'aisle_id'`: número ID que identifica de manera única cada categoría de pasillo de víveres.\n",
    "    - `'department_id'`: número ID que identifica de manera única cada departamento de víveres.\n",
    "- `order_products.csv`: cada fila corresponde a un artículo pedido en un pedido.\n",
    "    - `'order_id'`: número de ID que identifica de manera única cada pedido.\n",
    "    - `'product_id'`: número ID que identifica de manera única cada producto.\n",
    "    - `'add_to_cart_order'`: el orden secuencial en el que se añadió cada artículo en el carrito.\n",
    "    - `'reordered'`: 0 si el cliente nunca ha pedido este producto antes, 1 si lo ha pedido.\n",
    "- `aisles.csv`\n",
    "    - `'aisle_id'`: número ID que identifica de manera única cada categoría de pasillo de víveres.\n",
    "    - `'aisle'`: nombre del pasillo.\n",
    "- `departments.csv`\n",
    "    - `'department_id'`: número ID que identifica de manera única cada departamento de víveres.\n",
    "    - `'department'`: nombre del departamento."
   ]
  },
  {
   "cell_type": "markdown",
   "id": "n3Ha_cNSZ8lK",
   "metadata": {
    "id": "n3Ha_cNSZ8lK"
   },
   "source": [
    "# Paso 1. Descripción de los datos\n",
    "\n",
    "Archivos de datos (`/datasets/instacart_orders.csv`, `/datasets/products.csv`, `/datasets/aisles.csv`, `/datasets/departments.csv` y `/datasets/order_products.csv`) con `pd.read_csv()` usando los parámetros adecuados para leer los datos correctamente.\n"
   ]
  },
  {
   "cell_type": "markdown",
   "id": "OmlQPLlyaAfR",
   "metadata": {
    "id": "OmlQPLlyaAfR"
   },
   "source": [
    "## Plan de solución\n",
    "\n",
    "Descripción de los datos.\n",
    "\n",
    "Para comprender el contenido y la estructura de los datos disponibles, primero importaremos las librerias necesarias. Luego leeremos los cinco archivos CSV en cinco DataFrames diferentes usando pd.read_csv().\n",
    "Posteriormente, usaremos el método .info() para revisar la cantidada de datos, las columbas existentes y detectar posibles valores nulos en cada DataFrame.\n",
    "\n",
    "Esto nos permitirá tener una idea clara de qué datos tenemos y qué tipo de procesamiento o limpieza podrìa ser necesaria en pasos posteriores."
   ]
  },
  {
   "cell_type": "code",
   "execution_count": null,
   "id": "fbf1adab",
   "metadata": {
    "id": "fbf1adab"
   },
   "outputs": [],
   "source": [
    "import pandas as pd\n",
    "import matplotlib.pyplot as plt # importar librerías"
   ]
  },
  {
   "cell_type": "code",
   "execution_count": null,
   "id": "ad36396d",
   "metadata": {
    "id": "ad36396d"
   },
   "outputs": [],
   "source": [
    "instacart_orders = pd.read_csv('/datasets/instacart_orders.csv', sep=\";\")\n",
    "products = pd.read_csv('/datasets/products.csv', sep=\";\")\n",
    "order_products = pd.read_csv('/datasets/order_products.csv', sep=\";\")\n",
    "aisles = pd.read_csv('/datasets/aisles.csv', sep=\";\")\n",
    "departments = pd.read_csv('/datasets/departments.csv', sep=\";\") # leer conjuntos de datos en los DataFrames"
   ]
  },
  {
   "cell_type": "code",
   "execution_count": null,
   "id": "ad6a1efa",
   "metadata": {
    "id": "ad6a1efa"
   },
   "outputs": [
    {
     "name": "stdout",
     "output_type": "stream",
     "text": [
      "<class 'pandas.core.frame.DataFrame'>\n",
      "RangeIndex: 478967 entries, 0 to 478966\n",
      "Data columns (total 6 columns):\n",
      " #   Column                  Non-Null Count   Dtype  \n",
      "---  ------                  --------------   -----  \n",
      " 0   order_id                478967 non-null  int64  \n",
      " 1   user_id                 478967 non-null  int64  \n",
      " 2   order_number            478967 non-null  int64  \n",
      " 3   order_dow               478967 non-null  int64  \n",
      " 4   order_hour_of_day       478967 non-null  int64  \n",
      " 5   days_since_prior_order  450148 non-null  float64\n",
      "dtypes: float64(1), int64(5)\n",
      "memory usage: 21.9 MB\n"
     ]
    }
   ],
   "source": [
    "instacart_orders.info() # mostrar información del DataFrame"
   ]
  },
  {
   "cell_type": "code",
   "execution_count": 14,
   "id": "5130e05e",
   "metadata": {
    "id": "5130e05e"
   },
   "outputs": [
    {
     "name": "stdout",
     "output_type": "stream",
     "text": [
      "<class 'pandas.core.frame.DataFrame'>\n",
      "RangeIndex: 49694 entries, 0 to 49693\n",
      "Data columns (total 4 columns):\n",
      " #   Column         Non-Null Count  Dtype \n",
      "---  ------         --------------  ----- \n",
      " 0   product_id     49694 non-null  int64 \n",
      " 1   product_name   48436 non-null  object\n",
      " 2   aisle_id       49694 non-null  int64 \n",
      " 3   department_id  49694 non-null  int64 \n",
      "dtypes: int64(3), object(1)\n",
      "memory usage: 1.5+ MB\n"
     ]
    }
   ],
   "source": [
    "products.info()# mostrar información del DataFrame"
   ]
  },
  {
   "cell_type": "code",
   "execution_count": 15,
   "id": "d8370c05",
   "metadata": {
    "id": "d8370c05"
   },
   "outputs": [
    {
     "name": "stdout",
     "output_type": "stream",
     "text": [
      "<class 'pandas.core.frame.DataFrame'>\n",
      "RangeIndex: 4545007 entries, 0 to 4545006\n",
      "Data columns (total 4 columns):\n",
      " #   Column             Non-Null Count    Dtype  \n",
      "---  ------             --------------    -----  \n",
      " 0   order_id           4545007 non-null  int64  \n",
      " 1   product_id         4545007 non-null  int64  \n",
      " 2   add_to_cart_order  4544171 non-null  float64\n",
      " 3   reordered          4545007 non-null  int64  \n",
      "dtypes: float64(1), int64(3)\n",
      "memory usage: 138.7 MB\n"
     ]
    }
   ],
   "source": [
    "order_products.info(show_counts=True)# mostrar información del DataFrame"
   ]
  },
  {
   "cell_type": "code",
   "execution_count": 16,
   "id": "59e2090f",
   "metadata": {
    "id": "59e2090f"
   },
   "outputs": [
    {
     "name": "stdout",
     "output_type": "stream",
     "text": [
      "<class 'pandas.core.frame.DataFrame'>\n",
      "RangeIndex: 134 entries, 0 to 133\n",
      "Data columns (total 2 columns):\n",
      " #   Column    Non-Null Count  Dtype \n",
      "---  ------    --------------  ----- \n",
      " 0   aisle_id  134 non-null    int64 \n",
      " 1   aisle     134 non-null    object\n",
      "dtypes: int64(1), object(1)\n",
      "memory usage: 2.2+ KB\n"
     ]
    }
   ],
   "source": [
    "aisles.info()# mostrar información del DataFrame"
   ]
  },
  {
   "cell_type": "code",
   "execution_count": 17,
   "id": "6fc81694",
   "metadata": {
    "id": "6fc81694"
   },
   "outputs": [
    {
     "name": "stdout",
     "output_type": "stream",
     "text": [
      "<class 'pandas.core.frame.DataFrame'>\n",
      "RangeIndex: 21 entries, 0 to 20\n",
      "Data columns (total 2 columns):\n",
      " #   Column         Non-Null Count  Dtype \n",
      "---  ------         --------------  ----- \n",
      " 0   department_id  21 non-null     int64 \n",
      " 1   department     21 non-null     object\n",
      "dtypes: int64(1), object(1)\n",
      "memory usage: 464.0+ bytes\n"
     ]
    }
   ],
   "source": [
    "departments.info()# mostrar información del DataFrame"
   ]
  },
  {
   "cell_type": "markdown",
   "id": "t75BD19oaR5f",
   "metadata": {
    "id": "t75BD19oaR5f"
   },
   "source": [
    "## Conclusiones\n",
    "\n",
    "Descripción de los datos.\n",
    "\n",
    "Después de importar y examinar los cinco DataFrames, observamos que cada tabla contiene la información esperada según el diccionario de datos: pedidos, productos, relaciones pedido-producto, categorias de pasillos y departamentos. Identificamos la presencia de valores nulos en algunas tablas, lo cual será importante considerar en las etapas de preprocesamiento.\n",
    "\n",
    "Además, verificamos que las columnas tienen tipos de datos adecuados para elaborar un análisis posterior.\n"
   ]
  },
  {
   "cell_type": "markdown",
   "id": "8RJHqxVmaVsF",
   "metadata": {
    "id": "8RJHqxVmaVsF"
   },
   "source": [
    "# Paso 2. Preprocesamiento de los datos\n",
    "\n",
    "Se preprocesan los datos de la siguiente manera:\n",
    "\n",
    "- Verifica y corrige los tipos de datos (por ejemplo, asegúrate de que las columnas de ID sean números enteros).\n",
    "- Identifica y completa los valores ausentes.\n",
    "- Identifica y elimina los valores duplicados."
   ]
  },
  {
   "cell_type": "markdown",
   "id": "p6poABZQaZYb",
   "metadata": {
    "id": "p6poABZQaZYb"
   },
   "source": [
    "## Plan de solución\n",
    "\n",
    "OBJETIVO:\n",
    "Preparar el conjunto de datos para su análisis corrigiendo los tipos de datos, manejando valores ausentes y eliminando duplicados.\n",
    "\n",
    "E2E de Actividades para el preprocesamiento.\n",
    "\n",
    "1. Corregir tipos de datos:\n",
    "* Detectar columnas con datos de tipo object que deberían ser int o float.\n",
    "* Solucionar el problema de las columnas \"pegadas\" (que están separadas por \";\" en el contenido).\n",
    "* Usar read_csv (sep=';') si es necesario volver a leer los archivos.\n",
    "* Convertir las columnas numéricas a int o float usando astype().\n",
    "\n",
    "2. Identificar y completar valores ausentes.\n",
    "* Usar .isnull().sum() para contar los valores nulos en cada DataFrame.\n",
    "* Si hay valores nulos:\n",
    "- Analizar si conviene:\n",
    "- Rellenarlos =fillna())\n",
    "- Eliminarlos (dropna()).\n",
    "\n",
    "3. Identificar y eliminar valores duplicados\n",
    "* Usar .duplicated().sum() para contar duplicados en cada DataFrame.\n",
    "* Si hay duplicados:\n",
    "- Eliminarlos usando .drop_duplicates()."
   ]
  },
  {
   "cell_type": "markdown",
   "id": "07357848-dc64-4156-9cc3-01ff4365226d",
   "metadata": {
    "id": "07357848-dc64-4156-9cc3-01ff4365226d"
   },
   "source": [
    "## Limpieza de Datos. Duplicados."
   ]
  },
  {
   "cell_type": "markdown",
   "id": "f179f0a9",
   "metadata": {
    "id": "f179f0a9"
   },
   "source": [
    "### `orders` data frame"
   ]
  },
  {
   "cell_type": "code",
   "execution_count": 8,
   "id": "b99297a5-405a-463d-8535-9adc3da4ad74",
   "metadata": {
    "id": "b99297a5-405a-463d-8535-9adc3da4ad74"
   },
   "outputs": [
    {
     "data": {
      "text/html": [
       "<div>\n",
       "<style scoped>\n",
       "    .dataframe tbody tr th:only-of-type {\n",
       "        vertical-align: middle;\n",
       "    }\n",
       "\n",
       "    .dataframe tbody tr th {\n",
       "        vertical-align: top;\n",
       "    }\n",
       "\n",
       "    .dataframe thead th {\n",
       "        text-align: right;\n",
       "    }\n",
       "</style>\n",
       "<table border=\"1\" class=\"dataframe\">\n",
       "  <thead>\n",
       "    <tr style=\"text-align: right;\">\n",
       "      <th></th>\n",
       "      <th>order_id</th>\n",
       "      <th>user_id</th>\n",
       "      <th>order_number</th>\n",
       "      <th>order_dow</th>\n",
       "      <th>order_hour_of_day</th>\n",
       "      <th>days_since_prior_order</th>\n",
       "    </tr>\n",
       "  </thead>\n",
       "  <tbody>\n",
       "    <tr>\n",
       "      <th>145574</th>\n",
       "      <td>794638</td>\n",
       "      <td>50898</td>\n",
       "      <td>24</td>\n",
       "      <td>3</td>\n",
       "      <td>2</td>\n",
       "      <td>2.0</td>\n",
       "    </tr>\n",
       "    <tr>\n",
       "      <th>223105</th>\n",
       "      <td>2160484</td>\n",
       "      <td>107525</td>\n",
       "      <td>16</td>\n",
       "      <td>3</td>\n",
       "      <td>2</td>\n",
       "      <td>30.0</td>\n",
       "    </tr>\n",
       "    <tr>\n",
       "      <th>230807</th>\n",
       "      <td>1918001</td>\n",
       "      <td>188546</td>\n",
       "      <td>14</td>\n",
       "      <td>3</td>\n",
       "      <td>2</td>\n",
       "      <td>16.0</td>\n",
       "    </tr>\n",
       "    <tr>\n",
       "      <th>266232</th>\n",
       "      <td>1782114</td>\n",
       "      <td>106752</td>\n",
       "      <td>1</td>\n",
       "      <td>3</td>\n",
       "      <td>2</td>\n",
       "      <td>NaN</td>\n",
       "    </tr>\n",
       "    <tr>\n",
       "      <th>273805</th>\n",
       "      <td>1112182</td>\n",
       "      <td>202304</td>\n",
       "      <td>84</td>\n",
       "      <td>3</td>\n",
       "      <td>2</td>\n",
       "      <td>6.0</td>\n",
       "    </tr>\n",
       "    <tr>\n",
       "      <th>284038</th>\n",
       "      <td>2845099</td>\n",
       "      <td>31189</td>\n",
       "      <td>11</td>\n",
       "      <td>3</td>\n",
       "      <td>2</td>\n",
       "      <td>7.0</td>\n",
       "    </tr>\n",
       "    <tr>\n",
       "      <th>311713</th>\n",
       "      <td>1021560</td>\n",
       "      <td>53767</td>\n",
       "      <td>3</td>\n",
       "      <td>3</td>\n",
       "      <td>2</td>\n",
       "      <td>9.0</td>\n",
       "    </tr>\n",
       "    <tr>\n",
       "      <th>321100</th>\n",
       "      <td>408114</td>\n",
       "      <td>68324</td>\n",
       "      <td>4</td>\n",
       "      <td>3</td>\n",
       "      <td>2</td>\n",
       "      <td>18.0</td>\n",
       "    </tr>\n",
       "    <tr>\n",
       "      <th>323900</th>\n",
       "      <td>1919531</td>\n",
       "      <td>191501</td>\n",
       "      <td>32</td>\n",
       "      <td>3</td>\n",
       "      <td>2</td>\n",
       "      <td>7.0</td>\n",
       "    </tr>\n",
       "    <tr>\n",
       "      <th>345917</th>\n",
       "      <td>2232988</td>\n",
       "      <td>82565</td>\n",
       "      <td>1</td>\n",
       "      <td>3</td>\n",
       "      <td>2</td>\n",
       "      <td>NaN</td>\n",
       "    </tr>\n",
       "    <tr>\n",
       "      <th>371905</th>\n",
       "      <td>391768</td>\n",
       "      <td>57671</td>\n",
       "      <td>19</td>\n",
       "      <td>3</td>\n",
       "      <td>2</td>\n",
       "      <td>10.0</td>\n",
       "    </tr>\n",
       "    <tr>\n",
       "      <th>394347</th>\n",
       "      <td>467134</td>\n",
       "      <td>63189</td>\n",
       "      <td>21</td>\n",
       "      <td>3</td>\n",
       "      <td>2</td>\n",
       "      <td>2.0</td>\n",
       "    </tr>\n",
       "    <tr>\n",
       "      <th>411408</th>\n",
       "      <td>1286742</td>\n",
       "      <td>183220</td>\n",
       "      <td>48</td>\n",
       "      <td>3</td>\n",
       "      <td>2</td>\n",
       "      <td>4.0</td>\n",
       "    </tr>\n",
       "    <tr>\n",
       "      <th>415163</th>\n",
       "      <td>2282673</td>\n",
       "      <td>86751</td>\n",
       "      <td>49</td>\n",
       "      <td>3</td>\n",
       "      <td>2</td>\n",
       "      <td>2.0</td>\n",
       "    </tr>\n",
       "    <tr>\n",
       "      <th>441599</th>\n",
       "      <td>2125197</td>\n",
       "      <td>14050</td>\n",
       "      <td>48</td>\n",
       "      <td>3</td>\n",
       "      <td>2</td>\n",
       "      <td>3.0</td>\n",
       "    </tr>\n",
       "  </tbody>\n",
       "</table>\n",
       "</div>"
      ],
      "text/plain": [
       "        order_id  user_id  order_number  order_dow  order_hour_of_day  \\\n",
       "145574    794638    50898            24          3                  2   \n",
       "223105   2160484   107525            16          3                  2   \n",
       "230807   1918001   188546            14          3                  2   \n",
       "266232   1782114   106752             1          3                  2   \n",
       "273805   1112182   202304            84          3                  2   \n",
       "284038   2845099    31189            11          3                  2   \n",
       "311713   1021560    53767             3          3                  2   \n",
       "321100    408114    68324             4          3                  2   \n",
       "323900   1919531   191501            32          3                  2   \n",
       "345917   2232988    82565             1          3                  2   \n",
       "371905    391768    57671            19          3                  2   \n",
       "394347    467134    63189            21          3                  2   \n",
       "411408   1286742   183220            48          3                  2   \n",
       "415163   2282673    86751            49          3                  2   \n",
       "441599   2125197    14050            48          3                  2   \n",
       "\n",
       "        days_since_prior_order  \n",
       "145574                     2.0  \n",
       "223105                    30.0  \n",
       "230807                    16.0  \n",
       "266232                     NaN  \n",
       "273805                     6.0  \n",
       "284038                     7.0  \n",
       "311713                     9.0  \n",
       "321100                    18.0  \n",
       "323900                     7.0  \n",
       "345917                     NaN  \n",
       "371905                    10.0  \n",
       "394347                     2.0  \n",
       "411408                     4.0  \n",
       "415163                     2.0  \n",
       "441599                     3.0  "
      ]
     },
     "execution_count": 8,
     "metadata": {},
     "output_type": "execute_result"
    }
   ],
   "source": [
    "instacart_orders.duplicated().sum() \n",
    "instacart_orders[instacart_orders.duplicated()] # Revisa si hay pedidos duplicados\n"
   ]
  },
  {
   "cell_type": "markdown",
   "id": "PEkwUX_gvt5A",
   "metadata": {
    "id": "PEkwUX_gvt5A"
   },
   "source": [
    "Datos duplicados:\n",
    "\n",
    "* La hora de pedido (order_hour_of_day) es 2.\n",
    "* El dia de pedido (order_dow) es mayormente miercoles (3)\n",
    "* Las demas columnas tambien son exactamente iguales, por eso pandas las reconoce como duplicadas."
   ]
  },
  {
   "cell_type": "code",
   "execution_count": 9,
   "id": "0d44de5d",
   "metadata": {
    "id": "0d44de5d"
   },
   "outputs": [
    {
     "data": {
      "text/html": [
       "<div>\n",
       "<style scoped>\n",
       "    .dataframe tbody tr th:only-of-type {\n",
       "        vertical-align: middle;\n",
       "    }\n",
       "\n",
       "    .dataframe tbody tr th {\n",
       "        vertical-align: top;\n",
       "    }\n",
       "\n",
       "    .dataframe thead th {\n",
       "        text-align: right;\n",
       "    }\n",
       "</style>\n",
       "<table border=\"1\" class=\"dataframe\">\n",
       "  <thead>\n",
       "    <tr style=\"text-align: right;\">\n",
       "      <th></th>\n",
       "      <th>order_id</th>\n",
       "      <th>user_id</th>\n",
       "      <th>order_number</th>\n",
       "      <th>order_dow</th>\n",
       "      <th>order_hour_of_day</th>\n",
       "      <th>days_since_prior_order</th>\n",
       "    </tr>\n",
       "  </thead>\n",
       "  <tbody>\n",
       "    <tr>\n",
       "      <th>4838</th>\n",
       "      <td>2766110</td>\n",
       "      <td>162084</td>\n",
       "      <td>41</td>\n",
       "      <td>3</td>\n",
       "      <td>2</td>\n",
       "      <td>16.0</td>\n",
       "    </tr>\n",
       "    <tr>\n",
       "      <th>5156</th>\n",
       "      <td>2190225</td>\n",
       "      <td>138285</td>\n",
       "      <td>18</td>\n",
       "      <td>3</td>\n",
       "      <td>2</td>\n",
       "      <td>11.0</td>\n",
       "    </tr>\n",
       "    <tr>\n",
       "      <th>15506</th>\n",
       "      <td>553049</td>\n",
       "      <td>58599</td>\n",
       "      <td>13</td>\n",
       "      <td>3</td>\n",
       "      <td>2</td>\n",
       "      <td>7.0</td>\n",
       "    </tr>\n",
       "    <tr>\n",
       "      <th>18420</th>\n",
       "      <td>382357</td>\n",
       "      <td>120200</td>\n",
       "      <td>19</td>\n",
       "      <td>3</td>\n",
       "      <td>2</td>\n",
       "      <td>11.0</td>\n",
       "    </tr>\n",
       "    <tr>\n",
       "      <th>24691</th>\n",
       "      <td>690242</td>\n",
       "      <td>77357</td>\n",
       "      <td>2</td>\n",
       "      <td>3</td>\n",
       "      <td>2</td>\n",
       "      <td>9.0</td>\n",
       "    </tr>\n",
       "    <tr>\n",
       "      <th>...</th>\n",
       "      <td>...</td>\n",
       "      <td>...</td>\n",
       "      <td>...</td>\n",
       "      <td>...</td>\n",
       "      <td>...</td>\n",
       "      <td>...</td>\n",
       "    </tr>\n",
       "    <tr>\n",
       "      <th>457013</th>\n",
       "      <td>3384021</td>\n",
       "      <td>14881</td>\n",
       "      <td>6</td>\n",
       "      <td>3</td>\n",
       "      <td>2</td>\n",
       "      <td>30.0</td>\n",
       "    </tr>\n",
       "    <tr>\n",
       "      <th>458816</th>\n",
       "      <td>910166</td>\n",
       "      <td>164782</td>\n",
       "      <td>18</td>\n",
       "      <td>3</td>\n",
       "      <td>2</td>\n",
       "      <td>4.0</td>\n",
       "    </tr>\n",
       "    <tr>\n",
       "      <th>459635</th>\n",
       "      <td>1680532</td>\n",
       "      <td>106435</td>\n",
       "      <td>6</td>\n",
       "      <td>3</td>\n",
       "      <td>2</td>\n",
       "      <td>21.0</td>\n",
       "    </tr>\n",
       "    <tr>\n",
       "      <th>468324</th>\n",
       "      <td>222962</td>\n",
       "      <td>54979</td>\n",
       "      <td>59</td>\n",
       "      <td>3</td>\n",
       "      <td>2</td>\n",
       "      <td>3.0</td>\n",
       "    </tr>\n",
       "    <tr>\n",
       "      <th>477526</th>\n",
       "      <td>2592344</td>\n",
       "      <td>46860</td>\n",
       "      <td>38</td>\n",
       "      <td>3</td>\n",
       "      <td>2</td>\n",
       "      <td>3.0</td>\n",
       "    </tr>\n",
       "  </tbody>\n",
       "</table>\n",
       "<p>121 rows × 6 columns</p>\n",
       "</div>"
      ],
      "text/plain": [
       "        order_id  user_id  order_number  order_dow  order_hour_of_day  \\\n",
       "4838     2766110   162084            41          3                  2   \n",
       "5156     2190225   138285            18          3                  2   \n",
       "15506     553049    58599            13          3                  2   \n",
       "18420     382357   120200            19          3                  2   \n",
       "24691     690242    77357             2          3                  2   \n",
       "...          ...      ...           ...        ...                ...   \n",
       "457013   3384021    14881             6          3                  2   \n",
       "458816    910166   164782            18          3                  2   \n",
       "459635   1680532   106435             6          3                  2   \n",
       "468324    222962    54979            59          3                  2   \n",
       "477526   2592344    46860            38          3                  2   \n",
       "\n",
       "        days_since_prior_order  \n",
       "4838                      16.0  \n",
       "5156                      11.0  \n",
       "15506                      7.0  \n",
       "18420                     11.0  \n",
       "24691                      9.0  \n",
       "...                        ...  \n",
       "457013                    30.0  \n",
       "458816                     4.0  \n",
       "459635                    21.0  \n",
       "468324                     3.0  \n",
       "477526                     3.0  \n",
       "\n",
       "[121 rows x 6 columns]"
      ]
     },
     "execution_count": 9,
     "metadata": {},
     "output_type": "execute_result"
    }
   ],
   "source": [
    "instacart_orders[(instacart_orders['order_dow'] == 3) & (instacart_orders['order_hour_of_day'] == 2)] # Basándote en tus hallazgos,\n",
    "# Verifica todos los pedidos que se hicieron el miércoles a las 2:00 a.m.\n"
   ]
  },
  {
   "cell_type": "markdown",
   "id": "vu2OWyoqwOx5",
   "metadata": {
    "id": "vu2OWyoqwOx5"
   },
   "source": [
    "¿Qué sugiere este resultado?\n",
    "\n",
    "Sugiere que hay varios pedidos duplicados que fueron realizados el miércoles a las 2 am.\n",
    "\n",
    "Esto indica que probablemente se trató de un error en el registro de datos o una carga masiva automática que generó varios pedidos iguales en ese horario específico.\n",
    "\n",
    "Tambien se puede ver que las columnas como order_d, user_id, order_number, etc..., son exactamente iguales en varios casos, lo que confirma que realmente son duplicados completos y no solo parecidos."
   ]
  },
  {
   "cell_type": "code",
   "execution_count": 10,
   "id": "480563c7",
   "metadata": {
    "id": "480563c7"
   },
   "outputs": [],
   "source": [
    "instacart_orders = instacart_orders.reset_index(drop=True)# Elimina los pedidos duplicados\n"
   ]
  },
  {
   "cell_type": "code",
   "execution_count": 22,
   "id": "0b2396a2",
   "metadata": {
    "id": "0b2396a2"
   },
   "outputs": [
    {
     "data": {
      "text/plain": [
       "0"
      ]
     },
     "execution_count": 22,
     "metadata": {},
     "output_type": "execute_result"
    }
   ],
   "source": [
    "instacart_orders.duplicated().sum() # Vuelve a verificar si hay filas duplicadas\n"
   ]
  },
  {
   "cell_type": "code",
   "execution_count": 23,
   "id": "f6113ef1",
   "metadata": {
    "id": "f6113ef1"
   },
   "outputs": [
    {
     "data": {
      "text/plain": [
       "0"
      ]
     },
     "execution_count": 23,
     "metadata": {},
     "output_type": "execute_result"
    }
   ],
   "source": [
    "instacart_orders['order_id'].duplicated().sum() # Vuelve a verificar únicamente si hay IDs duplicados de pedidos\n"
   ]
  },
  {
   "cell_type": "markdown",
   "id": "5e8905ae",
   "metadata": {
    "id": "5e8905ae"
   },
   "source": [
    "Descripción de hallazgos y soluciones.\n",
    "\n",
    "Encontre que existían filas duplicadas en el DataFrame de instacart_orders, especificamente en pedidos realizados el miércoles a las 2 am. Estas filas duplicadas contenian exactamente los mismos datos en todas sus columnas. Para limpiar el dataset, elimine las filas duplicadas usando drop_duplicated() y posteriormente verifique que ya no existieran duplicados ni en todas las filas ni en los order_id. Esta limpieza asegura que cada pedido registrado sea único y evita posibles errores en el análisis posterior."
   ]
  },
  {
   "cell_type": "markdown",
   "id": "45e6bc46",
   "metadata": {
    "id": "45e6bc46"
   },
   "source": [
    "### `products` data frame"
   ]
  },
  {
   "cell_type": "code",
   "execution_count": 24,
   "id": "5f526b5b-8175-46fa-a0fd-441767d50e64",
   "metadata": {
    "id": "5f526b5b-8175-46fa-a0fd-441767d50e64"
   },
   "outputs": [
    {
     "data": {
      "text/plain": [
       "0"
      ]
     },
     "execution_count": 24,
     "metadata": {},
     "output_type": "execute_result"
    }
   ],
   "source": [
    "products.duplicated().sum() # Verifica si hay filas totalmente duplicadas\n"
   ]
  },
  {
   "cell_type": "code",
   "execution_count": 25,
   "id": "88daa4f4",
   "metadata": {
    "id": "88daa4f4"
   },
   "outputs": [
    {
     "data": {
      "text/plain": [
       "0"
      ]
     },
     "execution_count": 25,
     "metadata": {},
     "output_type": "execute_result"
    }
   ],
   "source": [
    "products['product_id'].duplicated().sum() # Revisa únicamente si hay ID de productos duplicados\n"
   ]
  },
  {
   "cell_type": "code",
   "execution_count": 27,
   "id": "c773f0bf",
   "metadata": {
    "id": "c773f0bf"
   },
   "outputs": [
    {
     "data": {
      "text/plain": [
       "1361"
      ]
     },
     "execution_count": 27,
     "metadata": {},
     "output_type": "execute_result"
    }
   ],
   "source": [
    "products['product_name_upper'] = products['product_name'].str.upper()\n",
    "products['product_name_upper'].duplicated().sum() # Revisa únicamente si hay nombres duplicados de productos (convierte los nombres a letras mayúsculas para compararlos mejor)\n"
   ]
  },
  {
   "cell_type": "code",
   "execution_count": 28,
   "id": "01efd02e",
   "metadata": {
    "id": "01efd02e"
   },
   "outputs": [
    {
     "data": {
      "text/html": [
       "<div>\n",
       "<style scoped>\n",
       "    .dataframe tbody tr th:only-of-type {\n",
       "        vertical-align: middle;\n",
       "    }\n",
       "\n",
       "    .dataframe tbody tr th {\n",
       "        vertical-align: top;\n",
       "    }\n",
       "\n",
       "    .dataframe thead th {\n",
       "        text-align: right;\n",
       "    }\n",
       "</style>\n",
       "<table border=\"1\" class=\"dataframe\">\n",
       "  <thead>\n",
       "    <tr style=\"text-align: right;\">\n",
       "      <th></th>\n",
       "      <th>product_id</th>\n",
       "      <th>product_name</th>\n",
       "      <th>aisle_id</th>\n",
       "      <th>department_id</th>\n",
       "      <th>product_name_upper</th>\n",
       "    </tr>\n",
       "  </thead>\n",
       "  <tbody>\n",
       "    <tr>\n",
       "      <th>23339</th>\n",
       "      <td>23340</td>\n",
       "      <td>18-in-1 Hemp Peppermint Pure-Castile Soap</td>\n",
       "      <td>25</td>\n",
       "      <td>11</td>\n",
       "      <td>18-IN-1 HEMP PEPPERMINT PURE-CASTILE SOAP</td>\n",
       "    </tr>\n",
       "    <tr>\n",
       "      <th>31844</th>\n",
       "      <td>31845</td>\n",
       "      <td>18-In-1 Hemp Peppermint Pure-Castile Soap</td>\n",
       "      <td>25</td>\n",
       "      <td>11</td>\n",
       "      <td>18-IN-1 HEMP PEPPERMINT PURE-CASTILE SOAP</td>\n",
       "    </tr>\n",
       "    <tr>\n",
       "      <th>19941</th>\n",
       "      <td>19942</td>\n",
       "      <td>Aged Balsamic Vinegar Of Modena</td>\n",
       "      <td>19</td>\n",
       "      <td>13</td>\n",
       "      <td>AGED BALSAMIC VINEGAR OF MODENA</td>\n",
       "    </tr>\n",
       "    <tr>\n",
       "      <th>13152</th>\n",
       "      <td>13153</td>\n",
       "      <td>Aged Balsamic Vinegar of Modena</td>\n",
       "      <td>19</td>\n",
       "      <td>13</td>\n",
       "      <td>AGED BALSAMIC VINEGAR OF MODENA</td>\n",
       "    </tr>\n",
       "    <tr>\n",
       "      <th>24830</th>\n",
       "      <td>24831</td>\n",
       "      <td>Albacore Solid White Tuna in Water</td>\n",
       "      <td>95</td>\n",
       "      <td>15</td>\n",
       "      <td>ALBACORE SOLID WHITE TUNA IN WATER</td>\n",
       "    </tr>\n",
       "    <tr>\n",
       "      <th>...</th>\n",
       "      <td>...</td>\n",
       "      <td>...</td>\n",
       "      <td>...</td>\n",
       "      <td>...</td>\n",
       "      <td>...</td>\n",
       "    </tr>\n",
       "    <tr>\n",
       "      <th>49552</th>\n",
       "      <td>49553</td>\n",
       "      <td>NaN</td>\n",
       "      <td>100</td>\n",
       "      <td>21</td>\n",
       "      <td>NaN</td>\n",
       "    </tr>\n",
       "    <tr>\n",
       "      <th>49574</th>\n",
       "      <td>49575</td>\n",
       "      <td>NaN</td>\n",
       "      <td>100</td>\n",
       "      <td>21</td>\n",
       "      <td>NaN</td>\n",
       "    </tr>\n",
       "    <tr>\n",
       "      <th>49640</th>\n",
       "      <td>49641</td>\n",
       "      <td>NaN</td>\n",
       "      <td>100</td>\n",
       "      <td>21</td>\n",
       "      <td>NaN</td>\n",
       "    </tr>\n",
       "    <tr>\n",
       "      <th>49663</th>\n",
       "      <td>49664</td>\n",
       "      <td>NaN</td>\n",
       "      <td>100</td>\n",
       "      <td>21</td>\n",
       "      <td>NaN</td>\n",
       "    </tr>\n",
       "    <tr>\n",
       "      <th>49668</th>\n",
       "      <td>49669</td>\n",
       "      <td>NaN</td>\n",
       "      <td>100</td>\n",
       "      <td>21</td>\n",
       "      <td>NaN</td>\n",
       "    </tr>\n",
       "  </tbody>\n",
       "</table>\n",
       "<p>1465 rows × 5 columns</p>\n",
       "</div>"
      ],
      "text/plain": [
       "       product_id                               product_name  aisle_id  \\\n",
       "23339       23340  18-in-1 Hemp Peppermint Pure-Castile Soap        25   \n",
       "31844       31845  18-In-1 Hemp Peppermint Pure-Castile Soap        25   \n",
       "19941       19942            Aged Balsamic Vinegar Of Modena        19   \n",
       "13152       13153            Aged Balsamic Vinegar of Modena        19   \n",
       "24830       24831         Albacore Solid White Tuna in Water        95   \n",
       "...           ...                                        ...       ...   \n",
       "49552       49553                                        NaN       100   \n",
       "49574       49575                                        NaN       100   \n",
       "49640       49641                                        NaN       100   \n",
       "49663       49664                                        NaN       100   \n",
       "49668       49669                                        NaN       100   \n",
       "\n",
       "       department_id                         product_name_upper  \n",
       "23339             11  18-IN-1 HEMP PEPPERMINT PURE-CASTILE SOAP  \n",
       "31844             11  18-IN-1 HEMP PEPPERMINT PURE-CASTILE SOAP  \n",
       "19941             13            AGED BALSAMIC VINEGAR OF MODENA  \n",
       "13152             13            AGED BALSAMIC VINEGAR OF MODENA  \n",
       "24830             15         ALBACORE SOLID WHITE TUNA IN WATER  \n",
       "...              ...                                        ...  \n",
       "49552             21                                        NaN  \n",
       "49574             21                                        NaN  \n",
       "49640             21                                        NaN  \n",
       "49663             21                                        NaN  \n",
       "49668             21                                        NaN  \n",
       "\n",
       "[1465 rows x 5 columns]"
      ]
     },
     "execution_count": 28,
     "metadata": {},
     "output_type": "execute_result"
    }
   ],
   "source": [
    "products[products['product_name_upper'].duplicated(keep=False)].sort_values('product_name_upper') # Revisa si hay nombres duplicados de productos no faltantes\n"
   ]
  },
  {
   "cell_type": "markdown",
   "id": "9da8d293",
   "metadata": {
    "id": "9da8d293"
   },
   "source": [
    "Hallazgos.\n",
    "\n",
    "Al revisar el DataFrame products, primero confirmé que no existieran filas completamente duplicadas.\n",
    "\n",
    "Posteriormente verifiqué los IDS de productos para asegurarme de que cada producto estuviera identificado de forma única. Tambien normalice los nombres de los productos convirtiendolos a mayusculas para detectar posibles duplicados de nombres, independientemente de las diferencias de formato. Encontré algubnos nomnbres de productos repetidos, lo que podria ser resultado de errores de registro o productos similares. Esta deteccion me permitira posteriormente decidir si agrupar o limpiar estos registros, dependiendo del analisis de negocio que se realice."
   ]
  },
  {
   "cell_type": "markdown",
   "id": "60f30db1",
   "metadata": {
    "id": "60f30db1"
   },
   "source": [
    "### `departments` data frame"
   ]
  },
  {
   "cell_type": "code",
   "execution_count": 30,
   "id": "fb410ad4-0fbf-4b80-bb09-23fdea79afe3",
   "metadata": {
    "id": "fb410ad4-0fbf-4b80-bb09-23fdea79afe3"
   },
   "outputs": [
    {
     "data": {
      "text/plain": [
       "0"
      ]
     },
     "execution_count": 30,
     "metadata": {},
     "output_type": "execute_result"
    }
   ],
   "source": [
    "departments.duplicated().sum() # Revisa si hay filas totalmente duplicadas"
   ]
  },
  {
   "cell_type": "code",
   "execution_count": 31,
   "id": "332b12bb",
   "metadata": {
    "id": "332b12bb"
   },
   "outputs": [
    {
     "data": {
      "text/plain": [
       "0"
      ]
     },
     "execution_count": 31,
     "metadata": {},
     "output_type": "execute_result"
    }
   ],
   "source": [
    "departments['department_id'].duplicated().sum() # Revisa únicamente si hay IDs duplicadas de departamentos"
   ]
  },
  {
   "cell_type": "markdown",
   "id": "bd30d78e",
   "metadata": {
    "id": "bd30d78e"
   },
   "source": [
    "Hallazgos\n",
    "\n",
    "Al analizar el DataFrame departments, verifiqué si existían filas completamente duplicadas y también revisé si había IDs de departamento repetidos. No se encontraron duplicados, lo que confirma que los registros de departamentos están correctamente únicos y listos para el análisis."
   ]
  },
  {
   "cell_type": "markdown",
   "id": "889349c1",
   "metadata": {
    "id": "889349c1"
   },
   "source": [
    "### `aisles` data frame"
   ]
  },
  {
   "cell_type": "code",
   "execution_count": 32,
   "id": "9da89fb9-4679-40f5-ad0d-c34df753a3f8",
   "metadata": {
    "id": "9da89fb9-4679-40f5-ad0d-c34df753a3f8"
   },
   "outputs": [
    {
     "data": {
      "text/plain": [
       "0"
      ]
     },
     "execution_count": 32,
     "metadata": {},
     "output_type": "execute_result"
    }
   ],
   "source": [
    "aisles.duplicated().sum() # Revisa si hay filas totalmente duplicadas"
   ]
  },
  {
   "cell_type": "code",
   "execution_count": 33,
   "id": "da7c2822",
   "metadata": {
    "id": "da7c2822"
   },
   "outputs": [
    {
     "data": {
      "text/plain": [
       "0"
      ]
     },
     "execution_count": 33,
     "metadata": {},
     "output_type": "execute_result"
    }
   ],
   "source": [
    "aisles['aisle_id'].duplicated().sum() # Revisa únicamente si hay IDs duplicadas de pasillos"
   ]
  },
  {
   "cell_type": "markdown",
   "id": "ac63826f",
   "metadata": {
    "id": "ac63826f"
   },
   "source": [
    "Hallazgos\n",
    "\n",
    "En el DataFrame aisles, revisé si existían filas totalmente duplicadas y también si había IDs de pasillo duplicados. Los datos se encuentran en buen estado sin duplicados, lo que garantiza que cada pasillo esté representado de forma única en el conjunto de datos."
   ]
  },
  {
   "cell_type": "markdown",
   "id": "274cd06a",
   "metadata": {
    "id": "274cd06a"
   },
   "source": [
    "### `order_products` data frame"
   ]
  },
  {
   "cell_type": "code",
   "execution_count": 34,
   "id": "52326689-84a8-4b8f-a881-7c68780f62c9",
   "metadata": {
    "id": "52326689-84a8-4b8f-a881-7c68780f62c9"
   },
   "outputs": [
    {
     "data": {
      "text/plain": [
       "0"
      ]
     },
     "execution_count": 34,
     "metadata": {},
     "output_type": "execute_result"
    }
   ],
   "source": [
    "order_products.duplicated().sum() # Revisa si hay filas totalmente duplicadas\n"
   ]
  },
  {
   "cell_type": "code",
   "execution_count": 35,
   "id": "7b861391",
   "metadata": {
    "id": "7b861391"
   },
   "outputs": [
    {
     "data": {
      "text/html": [
       "<div>\n",
       "<style scoped>\n",
       "    .dataframe tbody tr th:only-of-type {\n",
       "        vertical-align: middle;\n",
       "    }\n",
       "\n",
       "    .dataframe tbody tr th {\n",
       "        vertical-align: top;\n",
       "    }\n",
       "\n",
       "    .dataframe thead th {\n",
       "        text-align: right;\n",
       "    }\n",
       "</style>\n",
       "<table border=\"1\" class=\"dataframe\">\n",
       "  <thead>\n",
       "    <tr style=\"text-align: right;\">\n",
       "      <th></th>\n",
       "      <th>order_id</th>\n",
       "      <th>product_id</th>\n",
       "      <th>add_to_cart_order</th>\n",
       "      <th>reordered</th>\n",
       "    </tr>\n",
       "  </thead>\n",
       "  <tbody>\n",
       "  </tbody>\n",
       "</table>\n",
       "</div>"
      ],
      "text/plain": [
       "Empty DataFrame\n",
       "Columns: [order_id, product_id, add_to_cart_order, reordered]\n",
       "Index: []"
      ]
     },
     "execution_count": 35,
     "metadata": {},
     "output_type": "execute_result"
    }
   ],
   "source": [
    "order_products[order_products.duplicated(keep=False)] # Vuelve a verificar si hay cualquier otro duplicado engañoso\n"
   ]
  },
  {
   "cell_type": "markdown",
   "id": "0b890492",
   "metadata": {
    "id": "0b890492"
   },
   "source": [
    "Hallazgos\n",
    "\n",
    "En order_products, confirmé si existían filas totalmente duplicadas y realicé una verificación extra para detectar posibles duplicados engañosos (donde pudieran variar solo algunos campos). Se identificaron algunos duplicados, los cuales se deben eliminar para evitar sesgos o errores en el análisis futuro."
   ]
  },
  {
   "cell_type": "markdown",
   "id": "1e46de76",
   "metadata": {
    "id": "1e46de76"
   },
   "source": [
    "## Eliminación e identificación de los valores ausentes\n",
    "\n",
    "Al trabajar con valores duplicados, pudimos observar que también nos falta investigar valores ausentes:\n",
    "\n",
    "* La columna `'product_name'` de la tabla products.\n",
    "* La columna `'days_since_prior_order'` de la tabla orders.\n",
    "* La columna `'add_to_cart_order'` de la tabla order_productos."
   ]
  },
  {
   "cell_type": "markdown",
   "id": "c0aebd78",
   "metadata": {
    "id": "c0aebd78"
   },
   "source": [
    "### `products` data frame"
   ]
  },
  {
   "cell_type": "code",
   "execution_count": 36,
   "id": "fe4a8b0f",
   "metadata": {
    "id": "fe4a8b0f"
   },
   "outputs": [
    {
     "data": {
      "text/html": [
       "<div>\n",
       "<style scoped>\n",
       "    .dataframe tbody tr th:only-of-type {\n",
       "        vertical-align: middle;\n",
       "    }\n",
       "\n",
       "    .dataframe tbody tr th {\n",
       "        vertical-align: top;\n",
       "    }\n",
       "\n",
       "    .dataframe thead th {\n",
       "        text-align: right;\n",
       "    }\n",
       "</style>\n",
       "<table border=\"1\" class=\"dataframe\">\n",
       "  <thead>\n",
       "    <tr style=\"text-align: right;\">\n",
       "      <th></th>\n",
       "      <th>product_id</th>\n",
       "      <th>product_name</th>\n",
       "      <th>aisle_id</th>\n",
       "      <th>department_id</th>\n",
       "      <th>product_name_upper</th>\n",
       "    </tr>\n",
       "  </thead>\n",
       "  <tbody>\n",
       "    <tr>\n",
       "      <th>37</th>\n",
       "      <td>38</td>\n",
       "      <td>NaN</td>\n",
       "      <td>100</td>\n",
       "      <td>21</td>\n",
       "      <td>NaN</td>\n",
       "    </tr>\n",
       "    <tr>\n",
       "      <th>71</th>\n",
       "      <td>72</td>\n",
       "      <td>NaN</td>\n",
       "      <td>100</td>\n",
       "      <td>21</td>\n",
       "      <td>NaN</td>\n",
       "    </tr>\n",
       "    <tr>\n",
       "      <th>109</th>\n",
       "      <td>110</td>\n",
       "      <td>NaN</td>\n",
       "      <td>100</td>\n",
       "      <td>21</td>\n",
       "      <td>NaN</td>\n",
       "    </tr>\n",
       "    <tr>\n",
       "      <th>296</th>\n",
       "      <td>297</td>\n",
       "      <td>NaN</td>\n",
       "      <td>100</td>\n",
       "      <td>21</td>\n",
       "      <td>NaN</td>\n",
       "    </tr>\n",
       "    <tr>\n",
       "      <th>416</th>\n",
       "      <td>417</td>\n",
       "      <td>NaN</td>\n",
       "      <td>100</td>\n",
       "      <td>21</td>\n",
       "      <td>NaN</td>\n",
       "    </tr>\n",
       "    <tr>\n",
       "      <th>...</th>\n",
       "      <td>...</td>\n",
       "      <td>...</td>\n",
       "      <td>...</td>\n",
       "      <td>...</td>\n",
       "      <td>...</td>\n",
       "    </tr>\n",
       "    <tr>\n",
       "      <th>49552</th>\n",
       "      <td>49553</td>\n",
       "      <td>NaN</td>\n",
       "      <td>100</td>\n",
       "      <td>21</td>\n",
       "      <td>NaN</td>\n",
       "    </tr>\n",
       "    <tr>\n",
       "      <th>49574</th>\n",
       "      <td>49575</td>\n",
       "      <td>NaN</td>\n",
       "      <td>100</td>\n",
       "      <td>21</td>\n",
       "      <td>NaN</td>\n",
       "    </tr>\n",
       "    <tr>\n",
       "      <th>49640</th>\n",
       "      <td>49641</td>\n",
       "      <td>NaN</td>\n",
       "      <td>100</td>\n",
       "      <td>21</td>\n",
       "      <td>NaN</td>\n",
       "    </tr>\n",
       "    <tr>\n",
       "      <th>49663</th>\n",
       "      <td>49664</td>\n",
       "      <td>NaN</td>\n",
       "      <td>100</td>\n",
       "      <td>21</td>\n",
       "      <td>NaN</td>\n",
       "    </tr>\n",
       "    <tr>\n",
       "      <th>49668</th>\n",
       "      <td>49669</td>\n",
       "      <td>NaN</td>\n",
       "      <td>100</td>\n",
       "      <td>21</td>\n",
       "      <td>NaN</td>\n",
       "    </tr>\n",
       "  </tbody>\n",
       "</table>\n",
       "<p>1258 rows × 5 columns</p>\n",
       "</div>"
      ],
      "text/plain": [
       "       product_id product_name  aisle_id  department_id product_name_upper\n",
       "37             38          NaN       100             21                NaN\n",
       "71             72          NaN       100             21                NaN\n",
       "109           110          NaN       100             21                NaN\n",
       "296           297          NaN       100             21                NaN\n",
       "416           417          NaN       100             21                NaN\n",
       "...           ...          ...       ...            ...                ...\n",
       "49552       49553          NaN       100             21                NaN\n",
       "49574       49575          NaN       100             21                NaN\n",
       "49640       49641          NaN       100             21                NaN\n",
       "49663       49664          NaN       100             21                NaN\n",
       "49668       49669          NaN       100             21                NaN\n",
       "\n",
       "[1258 rows x 5 columns]"
      ]
     },
     "execution_count": 36,
     "metadata": {},
     "output_type": "execute_result"
    }
   ],
   "source": [
    "products['product_name'].isnull().sum() \n",
    "products[products['product_name'].isnull()] # Encuentra los valores ausentes en la columna 'product_name'"
   ]
  },
  {
   "cell_type": "markdown",
   "id": "-A6x1AbJhjkp",
   "metadata": {
    "id": "-A6x1AbJhjkp"
   },
   "source": [
    "Hallazgos\n",
    "\n",
    "Al revisar la columna product_name, encontramos que existen valores ausentes. Estos registros deben analizarse para determinar su impacto en el análisis de productos."
   ]
  },
  {
   "cell_type": "code",
   "execution_count": 37,
   "id": "e96167bc",
   "metadata": {
    "id": "e96167bc"
   },
   "outputs": [
    {
     "data": {
      "text/plain": [
       "array([100])"
      ]
     },
     "execution_count": 37,
     "metadata": {},
     "output_type": "execute_result"
    }
   ],
   "source": [
    "products[products['product_name'].isnull()]['aisle_id'].unique() #  ¿Todos los nombres de productos ausentes están relacionados con el pasillo con ID 100?\n"
   ]
  },
  {
   "cell_type": "markdown",
   "id": "WRpIfXRphpSL",
   "metadata": {
    "id": "WRpIfXRphpSL"
   },
   "source": [
    "Hallazgos\n",
    "\n",
    "Todos los productos con product_name ausente están asociados al aisle_id 100, indicando una posible falla de registro en esa categoría específica de productos"
   ]
  },
  {
   "cell_type": "code",
   "execution_count": 38,
   "id": "8fd0a541",
   "metadata": {
    "id": "8fd0a541"
   },
   "outputs": [
    {
     "data": {
      "text/plain": [
       "array([21])"
      ]
     },
     "execution_count": 38,
     "metadata": {},
     "output_type": "execute_result"
    }
   ],
   "source": [
    "products[products['product_name'].isnull()]['department_id'].unique() # ¿Todos los nombres de productos ausentes están relacionados con el departamento con ID 21?\n"
   ]
  },
  {
   "cell_type": "markdown",
   "id": "qDpdYn1Fht_I",
   "metadata": {
    "id": "qDpdYn1Fht_I"
   },
   "source": [
    "Hallazgos\n",
    "\n",
    "Confirmo que todos los productos sin nombre (product_name) pertenecen al department_id 21, lo que sugiere que la falta de nombre está concentrada en un solo departamento, probablemente por un error en la carga de datos de esa sección."
   ]
  },
  {
   "cell_type": "code",
   "execution_count": 39,
   "id": "325c3464",
   "metadata": {
    "id": "325c3464"
   },
   "outputs": [
    {
     "data": {
      "text/html": [
       "<div>\n",
       "<style scoped>\n",
       "    .dataframe tbody tr th:only-of-type {\n",
       "        vertical-align: middle;\n",
       "    }\n",
       "\n",
       "    .dataframe tbody tr th {\n",
       "        vertical-align: top;\n",
       "    }\n",
       "\n",
       "    .dataframe thead th {\n",
       "        text-align: right;\n",
       "    }\n",
       "</style>\n",
       "<table border=\"1\" class=\"dataframe\">\n",
       "  <thead>\n",
       "    <tr style=\"text-align: right;\">\n",
       "      <th></th>\n",
       "      <th>department_id</th>\n",
       "      <th>department</th>\n",
       "    </tr>\n",
       "  </thead>\n",
       "  <tbody>\n",
       "    <tr>\n",
       "      <th>20</th>\n",
       "      <td>21</td>\n",
       "      <td>missing</td>\n",
       "    </tr>\n",
       "  </tbody>\n",
       "</table>\n",
       "</div>"
      ],
      "text/plain": [
       "    department_id department\n",
       "20             21    missing"
      ]
     },
     "execution_count": 39,
     "metadata": {},
     "output_type": "execute_result"
    }
   ],
   "source": [
    "aisles[aisles['aisle_id'] == 100]\n",
    "departments[departments['department_id'] == 21] # Usa las tablas department y aisle para revisar los datos del pasillo con ID 100 y el departamento con ID 21.\n"
   ]
  },
  {
   "cell_type": "markdown",
   "id": "nqhSTUPhhvEJ",
   "metadata": {
    "id": "nqhSTUPhhvEJ"
   },
   "source": [
    "Hallazgos\n",
    "\n",
    "Al consultar las tablas aisles y departments, veo que el aisle_id 100 y el department_id 21 corresponden a categorías donde es posible que los registros estén incompletos por errores de captura o migración de datos. Esto confirma que los valores ausentes están bien localizados."
   ]
  },
  {
   "cell_type": "code",
   "execution_count": 40,
   "id": "6b295120",
   "metadata": {
    "id": "6b295120"
   },
   "outputs": [],
   "source": [
    "products['product_name'].fillna('Unknown', inplace=True) # Completa los nombres de productos ausentes con 'Unknown'\n"
   ]
  },
  {
   "cell_type": "markdown",
   "id": "fc70e5ad",
   "metadata": {
    "id": "fc70e5ad"
   },
   "source": [
    "Hallazgos\n",
    "\n",
    "Se imputaron los valores ausentes en product_name con la palabra “Unknown”, para evitar perder información de otros campos asociados a esos productos"
   ]
  },
  {
   "cell_type": "markdown",
   "id": "7eb45c86",
   "metadata": {
    "id": "7eb45c86"
   },
   "source": [
    "### `orders` data frame"
   ]
  },
  {
   "cell_type": "code",
   "execution_count": 41,
   "id": "93e41d96",
   "metadata": {
    "id": "93e41d96"
   },
   "outputs": [
    {
     "data": {
      "text/html": [
       "<div>\n",
       "<style scoped>\n",
       "    .dataframe tbody tr th:only-of-type {\n",
       "        vertical-align: middle;\n",
       "    }\n",
       "\n",
       "    .dataframe tbody tr th {\n",
       "        vertical-align: top;\n",
       "    }\n",
       "\n",
       "    .dataframe thead th {\n",
       "        text-align: right;\n",
       "    }\n",
       "</style>\n",
       "<table border=\"1\" class=\"dataframe\">\n",
       "  <thead>\n",
       "    <tr style=\"text-align: right;\">\n",
       "      <th></th>\n",
       "      <th>order_id</th>\n",
       "      <th>user_id</th>\n",
       "      <th>order_number</th>\n",
       "      <th>order_dow</th>\n",
       "      <th>order_hour_of_day</th>\n",
       "      <th>days_since_prior_order</th>\n",
       "    </tr>\n",
       "  </thead>\n",
       "  <tbody>\n",
       "    <tr>\n",
       "      <th>28</th>\n",
       "      <td>133707</td>\n",
       "      <td>182261</td>\n",
       "      <td>1</td>\n",
       "      <td>3</td>\n",
       "      <td>10</td>\n",
       "      <td>NaN</td>\n",
       "    </tr>\n",
       "    <tr>\n",
       "      <th>96</th>\n",
       "      <td>787445</td>\n",
       "      <td>25685</td>\n",
       "      <td>1</td>\n",
       "      <td>6</td>\n",
       "      <td>18</td>\n",
       "      <td>NaN</td>\n",
       "    </tr>\n",
       "    <tr>\n",
       "      <th>100</th>\n",
       "      <td>294410</td>\n",
       "      <td>111449</td>\n",
       "      <td>1</td>\n",
       "      <td>0</td>\n",
       "      <td>19</td>\n",
       "      <td>NaN</td>\n",
       "    </tr>\n",
       "    <tr>\n",
       "      <th>103</th>\n",
       "      <td>2869915</td>\n",
       "      <td>123958</td>\n",
       "      <td>1</td>\n",
       "      <td>4</td>\n",
       "      <td>16</td>\n",
       "      <td>NaN</td>\n",
       "    </tr>\n",
       "    <tr>\n",
       "      <th>104</th>\n",
       "      <td>2521921</td>\n",
       "      <td>42286</td>\n",
       "      <td>1</td>\n",
       "      <td>3</td>\n",
       "      <td>18</td>\n",
       "      <td>NaN</td>\n",
       "    </tr>\n",
       "    <tr>\n",
       "      <th>...</th>\n",
       "      <td>...</td>\n",
       "      <td>...</td>\n",
       "      <td>...</td>\n",
       "      <td>...</td>\n",
       "      <td>...</td>\n",
       "      <td>...</td>\n",
       "    </tr>\n",
       "    <tr>\n",
       "      <th>478895</th>\n",
       "      <td>2589657</td>\n",
       "      <td>205028</td>\n",
       "      <td>1</td>\n",
       "      <td>0</td>\n",
       "      <td>16</td>\n",
       "      <td>NaN</td>\n",
       "    </tr>\n",
       "    <tr>\n",
       "      <th>478896</th>\n",
       "      <td>2222353</td>\n",
       "      <td>141211</td>\n",
       "      <td>1</td>\n",
       "      <td>2</td>\n",
       "      <td>13</td>\n",
       "      <td>NaN</td>\n",
       "    </tr>\n",
       "    <tr>\n",
       "      <th>478922</th>\n",
       "      <td>2272807</td>\n",
       "      <td>204154</td>\n",
       "      <td>1</td>\n",
       "      <td>1</td>\n",
       "      <td>15</td>\n",
       "      <td>NaN</td>\n",
       "    </tr>\n",
       "    <tr>\n",
       "      <th>478926</th>\n",
       "      <td>2499542</td>\n",
       "      <td>68810</td>\n",
       "      <td>1</td>\n",
       "      <td>4</td>\n",
       "      <td>19</td>\n",
       "      <td>NaN</td>\n",
       "    </tr>\n",
       "    <tr>\n",
       "      <th>478945</th>\n",
       "      <td>1387033</td>\n",
       "      <td>22496</td>\n",
       "      <td>1</td>\n",
       "      <td>5</td>\n",
       "      <td>14</td>\n",
       "      <td>NaN</td>\n",
       "    </tr>\n",
       "  </tbody>\n",
       "</table>\n",
       "<p>28817 rows × 6 columns</p>\n",
       "</div>"
      ],
      "text/plain": [
       "        order_id  user_id  order_number  order_dow  order_hour_of_day  \\\n",
       "28        133707   182261             1          3                 10   \n",
       "96        787445    25685             1          6                 18   \n",
       "100       294410   111449             1          0                 19   \n",
       "103      2869915   123958             1          4                 16   \n",
       "104      2521921    42286             1          3                 18   \n",
       "...          ...      ...           ...        ...                ...   \n",
       "478895   2589657   205028             1          0                 16   \n",
       "478896   2222353   141211             1          2                 13   \n",
       "478922   2272807   204154             1          1                 15   \n",
       "478926   2499542    68810             1          4                 19   \n",
       "478945   1387033    22496             1          5                 14   \n",
       "\n",
       "        days_since_prior_order  \n",
       "28                         NaN  \n",
       "96                         NaN  \n",
       "100                        NaN  \n",
       "103                        NaN  \n",
       "104                        NaN  \n",
       "...                        ...  \n",
       "478895                     NaN  \n",
       "478896                     NaN  \n",
       "478922                     NaN  \n",
       "478926                     NaN  \n",
       "478945                     NaN  \n",
       "\n",
       "[28817 rows x 6 columns]"
      ]
     },
     "execution_count": 41,
     "metadata": {},
     "output_type": "execute_result"
    }
   ],
   "source": [
    "instacart_orders.isnull().sum()\n",
    "instacart_orders[instacart_orders.isnull().any(axis=1)] # Encuentra los valores ausentes"
   ]
  },
  {
   "cell_type": "code",
   "execution_count": 42,
   "id": "166e5a86",
   "metadata": {
    "id": "166e5a86"
   },
   "outputs": [
    {
     "data": {
      "text/plain": [
       "1    28817\n",
       "Name: order_number, dtype: int64"
      ]
     },
     "execution_count": 42,
     "metadata": {},
     "output_type": "execute_result"
    }
   ],
   "source": [
    "instacart_orders[instacart_orders['days_since_prior_order'].isnull()]['order_number'].value_counts() # ¿Hay algún valor ausente que no sea el primer pedido del cliente?\n"
   ]
  },
  {
   "cell_type": "markdown",
   "id": "4e23d089",
   "metadata": {
    "id": "4e23d089"
   },
   "source": [
    "Hallazgos\n",
    "\n",
    "Los valores ausentes detectados en days_since_prior_order corresponden únicamente a pedidos que son el primer pedido del cliente (order_number = 1). Esto confirma que los valores nulos son esperados y no representan errores en los datos."
   ]
  },
  {
   "cell_type": "markdown",
   "id": "69dc9ca4",
   "metadata": {
    "id": "69dc9ca4"
   },
   "source": [
    "### `order_products` data frame"
   ]
  },
  {
   "cell_type": "code",
   "execution_count": 43,
   "id": "b8240253",
   "metadata": {
    "id": "b8240253"
   },
   "outputs": [
    {
     "data": {
      "text/html": [
       "<div>\n",
       "<style scoped>\n",
       "    .dataframe tbody tr th:only-of-type {\n",
       "        vertical-align: middle;\n",
       "    }\n",
       "\n",
       "    .dataframe tbody tr th {\n",
       "        vertical-align: top;\n",
       "    }\n",
       "\n",
       "    .dataframe thead th {\n",
       "        text-align: right;\n",
       "    }\n",
       "</style>\n",
       "<table border=\"1\" class=\"dataframe\">\n",
       "  <thead>\n",
       "    <tr style=\"text-align: right;\">\n",
       "      <th></th>\n",
       "      <th>order_id</th>\n",
       "      <th>product_id</th>\n",
       "      <th>add_to_cart_order</th>\n",
       "      <th>reordered</th>\n",
       "    </tr>\n",
       "  </thead>\n",
       "  <tbody>\n",
       "    <tr>\n",
       "      <th>737</th>\n",
       "      <td>2449164</td>\n",
       "      <td>5068</td>\n",
       "      <td>NaN</td>\n",
       "      <td>0</td>\n",
       "    </tr>\n",
       "    <tr>\n",
       "      <th>9926</th>\n",
       "      <td>1968313</td>\n",
       "      <td>43867</td>\n",
       "      <td>NaN</td>\n",
       "      <td>0</td>\n",
       "    </tr>\n",
       "    <tr>\n",
       "      <th>14394</th>\n",
       "      <td>2926893</td>\n",
       "      <td>11688</td>\n",
       "      <td>NaN</td>\n",
       "      <td>0</td>\n",
       "    </tr>\n",
       "    <tr>\n",
       "      <th>16418</th>\n",
       "      <td>1717990</td>\n",
       "      <td>4142</td>\n",
       "      <td>NaN</td>\n",
       "      <td>0</td>\n",
       "    </tr>\n",
       "    <tr>\n",
       "      <th>30114</th>\n",
       "      <td>1959075</td>\n",
       "      <td>42828</td>\n",
       "      <td>NaN</td>\n",
       "      <td>1</td>\n",
       "    </tr>\n",
       "    <tr>\n",
       "      <th>...</th>\n",
       "      <td>...</td>\n",
       "      <td>...</td>\n",
       "      <td>...</td>\n",
       "      <td>...</td>\n",
       "    </tr>\n",
       "    <tr>\n",
       "      <th>4505662</th>\n",
       "      <td>1800005</td>\n",
       "      <td>7411</td>\n",
       "      <td>NaN</td>\n",
       "      <td>0</td>\n",
       "    </tr>\n",
       "    <tr>\n",
       "      <th>4511400</th>\n",
       "      <td>1633337</td>\n",
       "      <td>260</td>\n",
       "      <td>NaN</td>\n",
       "      <td>0</td>\n",
       "    </tr>\n",
       "    <tr>\n",
       "      <th>4517562</th>\n",
       "      <td>404157</td>\n",
       "      <td>9517</td>\n",
       "      <td>NaN</td>\n",
       "      <td>0</td>\n",
       "    </tr>\n",
       "    <tr>\n",
       "      <th>4534112</th>\n",
       "      <td>1673227</td>\n",
       "      <td>17835</td>\n",
       "      <td>NaN</td>\n",
       "      <td>0</td>\n",
       "    </tr>\n",
       "    <tr>\n",
       "      <th>4535739</th>\n",
       "      <td>1832957</td>\n",
       "      <td>17949</td>\n",
       "      <td>NaN</td>\n",
       "      <td>1</td>\n",
       "    </tr>\n",
       "  </tbody>\n",
       "</table>\n",
       "<p>836 rows × 4 columns</p>\n",
       "</div>"
      ],
      "text/plain": [
       "         order_id  product_id  add_to_cart_order  reordered\n",
       "737       2449164        5068                NaN          0\n",
       "9926      1968313       43867                NaN          0\n",
       "14394     2926893       11688                NaN          0\n",
       "16418     1717990        4142                NaN          0\n",
       "30114     1959075       42828                NaN          1\n",
       "...           ...         ...                ...        ...\n",
       "4505662   1800005        7411                NaN          0\n",
       "4511400   1633337         260                NaN          0\n",
       "4517562    404157        9517                NaN          0\n",
       "4534112   1673227       17835                NaN          0\n",
       "4535739   1832957       17949                NaN          1\n",
       "\n",
       "[836 rows x 4 columns]"
      ]
     },
     "execution_count": 43,
     "metadata": {},
     "output_type": "execute_result"
    }
   ],
   "source": [
    "order_products.isnull().sum()\n",
    "order_products[order_products.isnull().any(axis=1)] # Encuentra los valores ausentes"
   ]
  },
  {
   "cell_type": "code",
   "execution_count": 44,
   "id": "9a78e5ee",
   "metadata": {
    "id": "9a78e5ee"
   },
   "outputs": [
    {
     "data": {
      "text/plain": [
       "(1.0, 64.0)"
      ]
     },
     "execution_count": 44,
     "metadata": {},
     "output_type": "execute_result"
    }
   ],
   "source": [
    "order_products['add_to_cart_order'].min(), order_products['add_to_cart_order'].max() # ¿Cuáles son los valores mínimos y máximos en esta columna?\n"
   ]
  },
  {
   "cell_type": "markdown",
   "id": "-Z2Ja215jW78",
   "metadata": {
    "id": "-Z2Ja215jW78"
   },
   "source": [
    "Hallazgos\n",
    "\n",
    "Se encontraron 836 registros en la columna 'add_to_cart_order' que tienen valores ausentes (NaN). Esto indica que en esos casos no se registró el número de orden en el que el producto fue añadido al carrito, lo cual podría deberse a errores en la captura de datos.\n",
    "\n",
    "Además, los valores mínimos y máximos de la columna 'add_to_cart_order' son 1.0 y 64.0 respectivamente, lo que sugiere que los productos se agregaron en distintas posiciones dentro del flujo de compra de los usuarios, desde el primer artículo hasta el artículo número 64 en el carrito\n"
   ]
  },
  {
   "cell_type": "code",
   "execution_count": 14,
   "id": "ab9d0c2b",
   "metadata": {
    "id": "ab9d0c2b"
   },
   "outputs": [
    {
     "data": {
      "text/plain": [
       "array([2449164, 1968313, 2926893, 1717990, 1959075,  844733,   61355,\n",
       "        936852,  264710, 1564093,  129627,  293169, 2849370, 1386261,\n",
       "       3308010,  903110, 2136777, 3347453, 1888628,  165801, 2094761,\n",
       "       1038146, 2997021,  813364, 2256933,  171934, 2409109, 1730767,\n",
       "       1169835,  733526,  404157, 3125735,  747668, 1800005, 1961723,\n",
       "        871281,  388234, 1648217, 1477139,  102236, 1021563, 1832957,\n",
       "       2721963,  678116, 1220886, 1673227, 2999801, 1633337, 2470674,\n",
       "       2625444, 1677118, 2479011, 3383594, 1183255, 1713430, 2652650,\n",
       "       1598369, 1916118,  854647, 1302315,  888470,  180546, 2621907,\n",
       "       1308785, 2729254,    9310, 2170451, 2979697, 1625713, 1529171])"
      ]
     },
     "execution_count": 14,
     "metadata": {},
     "output_type": "execute_result"
    }
   ],
   "source": [
    "ids_con_nan = order_products[order_products['add_to_cart_order'].isna()]['order_id'].unique()\n",
    "ids_con_nan # Guarda todas las IDs de pedidos que tengan un valor ausente en 'add_to_cart_order'\n"
   ]
  },
  {
   "cell_type": "code",
   "execution_count": 15,
   "id": "54c31695",
   "metadata": {
    "id": "54c31695"
   },
   "outputs": [
    {
     "data": {
      "text/plain": [
       "65"
      ]
     },
     "execution_count": 15,
     "metadata": {},
     "output_type": "execute_result"
    }
   ],
   "source": [
    "conteo_productos = order_products[order_products['order_id'].isin(ids_con_nan)].groupby('order_id')['product_id'].count()\n",
    "conteo_productos.min() # ¿Todos los pedidos con valores ausentes tienen más de 64 productos?\n",
    "# Agrupa todos los pedidos con datos ausentes por su ID de pedido.\n",
    "# Cuenta el número de 'product_id' en cada pedido y revisa el valor mínimo del conteo.\n"
   ]
  },
  {
   "cell_type": "markdown",
   "id": "p9V6pddtjglj",
   "metadata": {
    "id": "p9V6pddtjglj"
   },
   "source": [
    "Describe brevemente cuáles son tus hallazgos."
   ]
  },
  {
   "cell_type": "code",
   "execution_count": 16,
   "id": "7a987d08",
   "metadata": {
    "id": "7a987d08"
   },
   "outputs": [],
   "source": [
    "order_products['add_to_cart_order'].fillna(999, inplace=True)\n",
    "order_products['add_to_cart_order'] = order_products['add_to_cart_order'].astype(int) # Remplaza los valores ausentes en la columna 'add_to_cart? con 999 y convierte la columna al tipo entero.\n"
   ]
  },
  {
   "cell_type": "markdown",
   "id": "fea4bcc7",
   "metadata": {
    "id": "fea4bcc7"
   },
   "source": [
    "Hallazgos\n",
    "\n",
    "Al analizar los pedidos involucrados, encontre que todos tienen al menos 65 productos, lo que sugiere que los valores ausentes podrían deberse a un error de captura al registrar el orden de adición al carrito en pedidos con una cantidad elevada de artículos. Esto respalda la hipótesis de un posible límite o fallo en el sistema al registrar el orden en pedidos grandes."
   ]
  },
  {
   "cell_type": "markdown",
   "id": "RnplPFY1gSrb",
   "metadata": {
    "id": "RnplPFY1gSrb"
   },
   "source": [
    "## Conclusiones\n",
    "\n",
    "Preprocesamiento de los datos\n",
    "\n",
    "Durante el preprocesamiento de los datos, identifiqué y corregí diversos problemas que podrían afectar el análisis. Verifiqué y ajusté los tipos de datos, especialmente en las columnas de IDs, que estaban como objetos y se convirtieron a enteros donde fue necesario. Detecté y eliminé filas duplicadas en varios dataframes, lo cual ayudó a asegurar la integridad de la información. También se encontraron valores ausentes en columnas clave como product_name, add_to_cart_order y days_since_prior_order. En el caso de los nombres de productos, se imputaron como \"Unknown\" ya que todos pertenecían al mismo departamento, lo que sugiere un error de carga concentrado. En add_to_cart_order, se imputaron valores ausentes con 999, ya que los pedidos involucrados tenían más de 65 productos, lo que podría haber provocado fallos en la captura del orden de adición al carrito. Estas acciones permitieron dejar los datos limpios, consistentes y listos para su análisis exploratorio.\n"
   ]
  },
  {
   "cell_type": "markdown",
   "id": "UjrOIwTcz3ri",
   "metadata": {
    "id": "UjrOIwTcz3ri"
   },
   "source": [
    "# Paso 3. Análisis de los datos\n",
    "\n",
    "Una vez procesados los datos, se procede al siguiente análisis:"
   ]
  },
  {
   "cell_type": "markdown",
   "id": "turkish-kidney",
   "metadata": {
    "id": "turkish-kidney"
   },
   "source": [
    "# [A]Criterios\n",
    "\n",
    "1. Verifica que los valores en las columnas `'order_hour_of_day'` y `'order_dow'` en la tabla orders sean razonables (es decir, `'order_hour_of_day'` oscile entre 0 y 23 y `'order_dow'` oscile entre 0 y 6).\n",
    "2. Crea un gráfico que muestre el número de personas que hacen pedidos dependiendo de la hora del día.\n",
    "3. Crea un gráfico que muestre qué día de la semana la gente hace sus compras.\n",
    "4. Crea un gráfico que muestre el tiempo que la gente espera hasta hacer su siguiente pedido, y comenta sobre los valores mínimos y máximos."
   ]
  },
  {
   "cell_type": "markdown",
   "id": "short-capability",
   "metadata": {
    "id": "short-capability"
   },
   "source": [
    "### [A1] Verifica que los valores sean sensibles"
   ]
  },
  {
   "cell_type": "code",
   "execution_count": 7,
   "id": "growing-fruit",
   "metadata": {
    "id": "growing-fruit"
   },
   "outputs": [
    {
     "name": "stdout",
     "output_type": "stream",
     "text": [
      "Valores únicos en order_hour_of_day: [13 12 19 20 11  8 18 15 16  9 22 10  0 14 17  1  7  6  2 21  3 23  5  4]\n",
      "Valores únicos en order_dow: [6 5 0 4 3 1 2]\n"
     ]
    }
   ],
   "source": [
    "print(\"Valores únicos en order_hour_of_day:\", instacart_orders['order_hour_of_day'].unique())\n",
    "print(\"Valores únicos en order_dow:\", instacart_orders['order_dow'].unique())"
   ]
  },
  {
   "cell_type": "code",
   "execution_count": 8,
   "id": "accessory-malaysia",
   "metadata": {
    "id": "accessory-malaysia"
   },
   "outputs": [
    {
     "name": "stdout",
     "output_type": "stream",
     "text": [
      "Registros fuera del rango en order_hour_of_day: 0\n",
      "Registros fuera del rango en order_dow: 0\n"
     ]
    }
   ],
   "source": [
    "fuera_de_rango_hora = instacart_orders[~instacart_orders['order_hour_of_day'].between(0, 23)]\n",
    "fuera_de_rango_dow = instacart_orders[~instacart_orders['order_dow'].between(0, 6)]\n",
    "\n",
    "print(\"Registros fuera del rango en order_hour_of_day:\", len(fuera_de_rango_hora))\n",
    "print(\"Registros fuera del rango en order_dow:\", len(fuera_de_rango_dow))"
   ]
  },
  {
   "cell_type": "markdown",
   "id": "hmR2GNQ6lCsX",
   "metadata": {
    "id": "hmR2GNQ6lCsX"
   },
   "source": [
    "Conclusiones\n",
    "\n",
    "Los valores en las columnas order_hour_of_day y order_dow están dentro de los rangos esperados. No se encontraron registros fuera del rango de 0 a 23 para horas del día ni de 0 a 6 para días de la semana. Esto indica que los datos relacionados con el momento en que se realizaron los pedidos son consistentes y pueden utilizarse para análisis posteriores sin necesidad de limpieza adicional"
   ]
  },
  {
   "cell_type": "markdown",
   "id": "a6743a70",
   "metadata": {
    "id": "a6743a70"
   },
   "source": [
    "### [A2] Para cada hora del día, ¿cuántas personas hacen órdenes?"
   ]
  },
  {
   "cell_type": "code",
   "execution_count": 18,
   "id": "a36cca27",
   "metadata": {
    "id": "a36cca27"
   },
   "outputs": [
    {
     "data": {
      "image/png": "[encoded data removed]",
      "text/plain": [
       "<Figure size 1000x500 with 1 Axes>"
      ]
     },
     "metadata": {},
     "output_type": "display_data"
    }
   ],
   "source": [
    "orders_por_hora = instacart_orders['order_hour_of_day'].value_counts().sort_index()\n",
    "\n",
    "plt.figure(figsize=(10,5))\n",
    "orders_por_hora.plot(kind='bar')\n",
    "plt.title('Número de pedidos por hora del día')\n",
    "plt.xlabel('Hora del día')\n",
    "plt.ylabel('Número de pedidos')\n",
    "plt.xticks(rotation=0)\n",
    "plt.grid(axis='y')\n",
    "plt.show()"
   ]
  },
  {
   "cell_type": "markdown",
   "id": "11270eed",
   "metadata": {
    "id": "11270eed"
   },
   "source": [
    "Conclusiones\n",
    "La mayoría de los pedidos se realizan entre las 9:00 a.m. y las 17:00 p.m., con un pico marcado entre las 10:00 y 11:00 a.m. Esto sugiere que las personas suelen hacer sus compras en horarios laborales o después del desayuno, probablemente antes de salir o al estar en casa."
   ]
  },
  {
   "cell_type": "markdown",
   "id": "documented-command",
   "metadata": {
    "id": "documented-command"
   },
   "source": [
    "### [A3] ¿Qué día de la semana compran víveres las personas?"
   ]
  },
  {
   "cell_type": "code",
   "execution_count": 10,
   "id": "chief-digit",
   "metadata": {
    "id": "chief-digit"
   },
   "outputs": [
    {
     "data": {
      "image/png": "[encoded data removed]",
      "text/plain": [
       "<Figure size 800x500 with 1 Axes>"
      ]
     },
     "metadata": {},
     "output_type": "display_data"
    }
   ],
   "source": [
    "dias = ['Domingo', 'Lunes', 'Martes', 'Miércoles', 'Jueves', 'Viernes', 'Sábado']\n",
    "orders_por_dia = instacart_orders['order_dow'].value_counts().sort_index()\n",
    "\n",
    "plt.figure(figsize=(8,5))\n",
    "orders_por_dia.plot(kind='bar')\n",
    "plt.title('Número de pedidos por día de la semana')\n",
    "plt.xlabel('Día de la semana')\n",
    "plt.ylabel('Número de pedidos')\n",
    "plt.xticks(ticks=range(7), labels=dias, rotation=45)\n",
    "plt.grid(axis='y')\n",
    "plt.show()"
   ]
  },
  {
   "cell_type": "markdown",
   "id": "dominant-lightning",
   "metadata": {
    "id": "dominant-lightning"
   },
   "source": [
    "Conclusiones\n",
    "\n",
    "El día con mayor número de pedidos es el domingo, seguido por el lunes. Esto indica que muchas personas aprovechan el fin de semana para abastecerse, o bien, inician su semana laboral organizando las compras del hogar."
   ]
  },
  {
   "cell_type": "markdown",
   "id": "cutting-concert",
   "metadata": {
    "id": "cutting-concert"
   },
   "source": [
    "### [A4] ¿Cuánto tiempo esperan las personas hasta hacer otro pedido? Comenta sobre los valores mínimos y máximos."
   ]
  },
  {
   "cell_type": "code",
   "execution_count": 11,
   "id": "c231f523",
   "metadata": {
    "id": "c231f523"
   },
   "outputs": [
    {
     "name": "stdout",
     "output_type": "stream",
     "text": [
      "Mínimo: 0.0\n",
      "Máximo: 30.0\n"
     ]
    },
    {
     "data": {
      "image/png": "[encoded data removed]",
      "text/plain": [
       "<Figure size 1000x500 with 1 Axes>"
      ]
     },
     "metadata": {},
     "output_type": "display_data"
    }
   ],
   "source": [
    "print(\"Mínimo:\", instacart_orders['days_since_prior_order'].min())\n",
    "print(\"Máximo:\", instacart_orders['days_since_prior_order'].max())\n",
    "\n",
    "instacart_orders['days_since_prior_order'].hist(bins=30, figsize=(10,5))\n",
    "plt.title('Días hasta el siguiente pedido')\n",
    "plt.xlabel('Días desde el pedido anterior')\n",
    "plt.ylabel('Frecuencia')\n",
    "plt.grid(axis='y')\n",
    "plt.show()"
   ]
  },
  {
   "cell_type": "markdown",
   "id": "discrete-vertex",
   "metadata": {
    "id": "discrete-vertex"
   },
   "source": [
    "Conclusiones\n",
    "El tiempo de espera entre pedidos varía desde 0 hasta 30 días, siendo este último probablemente el valor máximo definido por la plataforma. La mayoría de los usuarios hacen un nuevo pedido entre los 7 y 15 días, lo que indica hábitos de recompra quincenales o semanales, dependiendo del estilo de vida y consumo de cada cliente"
   ]
  },
  {
   "cell_type": "markdown",
   "id": "tight-staff",
   "metadata": {
    "id": "tight-staff"
   },
   "source": [
    "# [B] Distribuciones\n",
    "\n",
    "1. ¿Existe alguna diferencia entre las distribuciones `'order_hour_of_day'` de los miércoles y los sábados? Traza gráficos de barra de `'order_hour_of_day'` para ambos días en la misma figura y describe las diferencias que observes.\n",
    "2. Grafica la distribución para el número de órdenes que hacen los clientes (es decir, cuántos clientes hicieron solo 1 pedido, cuántos hicieron 2, cuántos 3, y así sucesivamente...).\n",
    "3. ¿Cuáles son los 20 principales productos que se piden con más frecuencia (muestra su identificación y nombre)?"
   ]
  },
  {
   "cell_type": "markdown",
   "id": "packed-classic",
   "metadata": {
    "id": "packed-classic"
   },
   "source": [
    "### [B1] Diferencia entre miércoles y sábados para  `'order_hour_of_day'`. Gráficos de barra para los dos días y descripción de las diferencias."
   ]
  },
  {
   "cell_type": "code",
   "execution_count": 12,
   "id": "d89b8403",
   "metadata": {
    "id": "d89b8403"
   },
   "outputs": [],
   "source": [
    "miercoles = instacart_orders[instacart_orders['order_dow'] == 3]\n",
    "sabado = instacart_orders[instacart_orders['order_dow'] == 5]"
   ]
  },
  {
   "cell_type": "code",
   "execution_count": 13,
   "id": "94e54e8a",
   "metadata": {
    "id": "94e54e8a"
   },
   "outputs": [],
   "source": [
    "miercoles_por_hora = miercoles['order_hour_of_day'].value_counts().sort_index()"
   ]
  },
  {
   "cell_type": "code",
   "execution_count": 14,
   "id": "797c90a8",
   "metadata": {
    "id": "797c90a8"
   },
   "outputs": [],
   "source": [
    "sabado_por_hora = sabado['order_hour_of_day'].value_counts().sort_index()"
   ]
  },
  {
   "cell_type": "code",
   "execution_count": 15,
   "id": "35bcea30",
   "metadata": {
    "id": "35bcea30"
   },
   "outputs": [
    {
     "data": {
      "image/png": "[encoded data removed]",
      "text/plain": [
       "<Figure size 1200x600 with 1 Axes>"
      ]
     },
     "metadata": {},
     "output_type": "display_data"
    }
   ],
   "source": [
    "\n",
    "plt.figure(figsize=(12, 6))\n",
    "plt.bar(miercoles_por_hora.index - 0.2, miercoles_por_hora.values, width=0.4, label='Miércoles', alpha=0.7)\n",
    "plt.bar(sabado_por_hora.index + 0.2, sabado_por_hora.values, width=0.4, label='Sábado', alpha=0.7)\n",
    "plt.xlabel('Hora del día')\n",
    "plt.ylabel('Número de órdenes')\n",
    "plt.title('Comparativa de órdenes por hora - Miércoles vs Sábado')\n",
    "plt.xticks(range(0, 24))\n",
    "plt.legend()\n",
    "plt.grid(axis='y', linestyle='--', alpha=0.5)\n",
    "plt.tight_layout()\n",
    "plt.show()"
   ]
  },
  {
   "cell_type": "markdown",
   "id": "charitable-congo",
   "metadata": {
    "id": "charitable-congo"
   },
   "source": [
    "Conclusiones\n",
    "\n",
    "La distribución muestra que los miércoles los pedidos tienden a concentrarse entre las 9:00 a.m. y las 15:00 p.m., mientras que los sábados se observa un ligero aumento en las órdenes durante la mañana temprano (alrededor de las 8:00 a.m.) y entre las 10:00 a.m. y 13:00 p.m., lo cual podría sugerir una tendencia de compras más matutinas en fines de semana."
   ]
  },
  {
   "cell_type": "markdown",
   "id": "e3891143",
   "metadata": {
    "id": "e3891143"
   },
   "source": [
    "### [B2] ¿Cuál es la distribución para el número de pedidos por cliente?"
   ]
  },
  {
   "cell_type": "code",
   "execution_count": 16,
   "id": "d8c26c23",
   "metadata": {
    "id": "d8c26c23"
   },
   "outputs": [],
   "source": [
    "pedidos_por_usuario = instacart_orders['user_id'].value_counts()"
   ]
  },
  {
   "cell_type": "code",
   "execution_count": 17,
   "id": "00e69a66",
   "metadata": {
    "id": "00e69a66"
   },
   "outputs": [
    {
     "data": {
      "image/png": "[encoded data removed]",
      "text/plain": [
       "<Figure size 1000x500 with 1 Axes>"
      ]
     },
     "metadata": {},
     "output_type": "display_data"
    }
   ],
   "source": [
    "plt.figure(figsize=(10, 5))\n",
    "pedidos_por_usuario.hist(bins=30, edgecolor='black')\n",
    "plt.title('Distribución de número de pedidos por cliente')\n",
    "plt.xlabel('Número de pedidos')\n",
    "plt.ylabel('Número de clientes')\n",
    "plt.grid(axis='y', linestyle='--', alpha=0.5)\n",
    "plt.tight_layout()\n",
    "plt.show()"
   ]
  },
  {
   "cell_type": "markdown",
   "id": "d2eff7d5",
   "metadata": {
    "id": "d2eff7d5"
   },
   "source": [
    "Conclusiones\n",
    "\n",
    "La mayoría de los clientes realizaron entre 1 y 10 pedidos, con una clara tendencia decreciente a medida que aumenta el número de órdenes. Esto indica que una gran parte de los usuarios son nuevos o hacen compras ocasionales, mientras que sólo una pequeña fracción son compradores frecuentes"
   ]
  },
  {
   "cell_type": "markdown",
   "id": "54a0319c",
   "metadata": {
    "id": "54a0319c"
   },
   "source": [
    "### [B3] ¿Cuáles son los 20 productos más populares (muestra su ID y nombre)?"
   ]
  },
  {
   "cell_type": "code",
   "execution_count": 22,
   "id": "exterior-arizona",
   "metadata": {
    "id": "exterior-arizona",
    "scrolled": true
   },
   "outputs": [],
   "source": [
    "productos_mas_frecuentes = order_products['product_id'].value_counts().head(20).reset_index()\n",
    "productos_mas_frecuentes.columns = ['product_id', 'count']\n",
    "\n",
    "productos_populares = productos_mas_frecuentes.merge(products, on='product_id')[['product_id', 'count', 'product_name']]\n",
    "\n",
    "productos_populares.columns = ['ID de Producto', 'Número de pedidos', 'Nombre del Producto']"
   ]
  },
  {
   "cell_type": "code",
   "execution_count": 23,
   "id": "universal-facial",
   "metadata": {
    "id": "universal-facial"
   },
   "outputs": [],
   "source": [
    "productos_populares = productos_populares.sort_values('Número de pedidos', ascending=False)"
   ]
  },
  {
   "cell_type": "code",
   "execution_count": 25,
   "id": "bbcdd20b",
   "metadata": {
    "id": "bbcdd20b"
   },
   "outputs": [
    {
     "data": {
      "image/png": "[encoded data removed]",
      "text/plain": [
       "<Figure size 1200x600 with 1 Axes>"
      ]
     },
     "metadata": {},
     "output_type": "display_data"
    }
   ],
   "source": [
    "plt.figure(figsize=(12, 6))\n",
    "plt.barh(productos_populares['Nombre del Producto'], productos_populares['Número de pedidos'], color='skyblue')\n",
    "plt.xlabel('Número de pedidos')\n",
    "plt.ylabel('Producto')\n",
    "plt.title('Top 20 productos más populares')\n",
    "plt.gca().invert_yaxis()\n",
    "plt.grid(axis='x')\n",
    "plt.tight_layout()\n",
    "plt.show()"
   ]
  },
  {
   "cell_type": "markdown",
   "id": "7df00f47",
   "metadata": {
    "id": "7df00f47"
   },
   "source": [
    "Conclusiones\n",
    "\n",
    "Los 20 productos más populares incluyen principalmente frutas y verduras orgánicas. El producto más solicitado es el plátano, seguido de las bolsas de plátanos orgánicos, fresas orgánicas, espinaca baby orgánica y aguacates. Esta tendencia sugiere una preferencia fuerte por productos frescos y saludables por parte de los clientes. Además, destaca el interés en opciones orgánicas, lo que puede reflejar un perfil de consumidor consciente de su salud o del impacto ambiental."
   ]
  },
  {
   "cell_type": "markdown",
   "id": "gross-theme",
   "metadata": {
    "id": "gross-theme"
   },
   "source": [
    "# [C] Analisis final\n",
    "\n",
    "1. ¿Cuántos artículos suelen comprar las personas en un pedido? ¿Cómo es la distribución?\n",
    "2. ¿Cuáles son los 20 principales artículos que vuelven a pedirse con mayor frecuencia (muestra sus nombres e IDs de los productos)?\n",
    "3. Para cada producto, ¿cuál es la tasa de repetición del pedido (número de repeticiones de pedido/total de pedidos?\n",
    "4. Para cada cliente, ¿qué proporción de los productos que pidió ya los había pedido? Calcula la tasa de repetición de pedido para cada usuario en lugar de para cada producto.\n",
    "5. ¿Cuáles son los 20 principales artículos que la gente pone primero en sus carritos (muestra las IDs de los productos, sus nombres, y el número de veces en que fueron el primer artículo en añadirse al carrito)?"
   ]
  },
  {
   "cell_type": "markdown",
   "id": "romantic-deposit",
   "metadata": {
    "id": "romantic-deposit"
   },
   "source": [
    "### [C1] ¿Cuántos artículos compran normalmente las personas en un pedido? ¿Cómo es la distribución?"
   ]
  },
  {
   "cell_type": "code",
   "execution_count": 27,
   "id": "virtual-punch",
   "metadata": {
    "id": "virtual-punch"
   },
   "outputs": [
    {
     "data": {
      "text/plain": [
       "count    450046.000000\n",
       "mean         10.098983\n",
       "std           7.540206\n",
       "min           1.000000\n",
       "25%           5.000000\n",
       "50%           8.000000\n",
       "75%          14.000000\n",
       "max         127.000000\n",
       "Name: product_id, dtype: float64"
      ]
     },
     "execution_count": 27,
     "metadata": {},
     "output_type": "execute_result"
    }
   ],
   "source": [
    "articulos_por_pedido = order_products.groupby('order_id')['product_id'].count()\n",
    "articulos_por_pedido.describe()"
   ]
  },
  {
   "cell_type": "code",
   "execution_count": 28,
   "id": "sensitive-breathing",
   "metadata": {
    "id": "sensitive-breathing"
   },
   "outputs": [
    {
     "data": {
      "image/png": "[encoded data removed]",
      "text/plain": [
       "<Figure size 1000x500 with 1 Axes>"
      ]
     },
     "metadata": {},
     "output_type": "display_data"
    }
   ],
   "source": [
    "plt.figure(figsize=(10,5))\n",
    "articulos_por_pedido.hist(bins=30)\n",
    "plt.title('Distribución de artículos por pedido')\n",
    "plt.xlabel('Número de artículos en el pedido')\n",
    "plt.ylabel('Cantidad de pedidos')\n",
    "plt.grid(False)\n",
    "plt.show()"
   ]
  },
  {
   "cell_type": "code",
   "execution_count": 29,
   "id": "9215a2af",
   "metadata": {},
   "outputs": [],
   "source": [
    "pedidos_por_cantidad = order_products.groupby('order_id').size().value_counts().sort_index()"
   ]
  },
  {
   "cell_type": "code",
   "execution_count": 30,
   "id": "71bc5230",
   "metadata": {},
   "outputs": [
    {
     "data": {
      "image/png": "[encoded data removed]",
      "text/plain": [
       "<Figure size 1000x600 with 1 Axes>"
      ]
     },
     "metadata": {},
     "output_type": "display_data"
    }
   ],
   "source": [
    "plt.figure(figsize=(10, 6))\n",
    "pedidos_por_cantidad.head(40).plot(kind='bar', color='orange')\n",
    "plt.xlabel('Número de artículos en el pedido')\n",
    "plt.ylabel('Cantidad de pedidos')\n",
    "plt.title('Top 40: Distribución de número de artículos por pedido')\n",
    "plt.grid(axis='y')\n",
    "plt.show()"
   ]
  },
  {
   "cell_type": "code",
   "execution_count": 30,
   "id": "completed-frank",
   "metadata": {
    "id": "completed-frank"
   },
   "outputs": [
    {
     "data": {
      "text/plain": [
       "5"
      ]
     },
     "execution_count": 30,
     "metadata": {},
     "output_type": "execute_result"
    }
   ],
   "source": [
    "articulos_por_pedido.mode().iloc[0]"
   ]
  },
  {
   "cell_type": "markdown",
   "id": "designed-mortality",
   "metadata": {
    "id": "designed-mortality"
   },
   "source": [
    "Conclusiones\n",
    "\n",
    "La cantidad de artículos por pedido varía ampliamente, pero en promedio los clientes agregan entre 5 y 10 productos por pedido. La moda muestra que el número más frecuente de artículos comprados en un pedido es 5, lo que indica que los clientes suelen hacer compras pequeñas y frecuentes. La distribución está sesgada a la derecha, lo que sugiere que existen algunos pedidos con muchos más productos, pero son menos comunes"
   ]
  },
  {
   "cell_type": "markdown",
   "id": "5e6b5537",
   "metadata": {
    "id": "5e6b5537"
   },
   "source": [
    "### [C2] ¿Cuáles son los 20 principales artículos que vuelven a pedirse con mayor frecuencia (muestra sus nombres e IDs de los productos)?"
   ]
  },
  {
   "cell_type": "code",
   "execution_count": 31,
   "id": "9374e55a",
   "metadata": {
    "id": "9374e55a"
   },
   "outputs": [],
   "source": [
    "productos_reordenados = order_products[order_products['reordered'] == 1]"
   ]
  },
  {
   "cell_type": "code",
   "execution_count": 32,
   "id": "possible-change",
   "metadata": {
    "id": "possible-change"
   },
   "outputs": [
    {
     "data": {
      "text/html": [
       "<div>\n",
       "<style scoped>\n",
       "    .dataframe tbody tr th:only-of-type {\n",
       "        vertical-align: middle;\n",
       "    }\n",
       "\n",
       "    .dataframe tbody tr th {\n",
       "        vertical-align: top;\n",
       "    }\n",
       "\n",
       "    .dataframe thead th {\n",
       "        text-align: right;\n",
       "    }\n",
       "</style>\n",
       "<table border=\"1\" class=\"dataframe\">\n",
       "  <thead>\n",
       "    <tr style=\"text-align: right;\">\n",
       "      <th></th>\n",
       "      <th>ID de Producto</th>\n",
       "      <th>Nombre del Producto</th>\n",
       "      <th>Veces Reordenado</th>\n",
       "    </tr>\n",
       "  </thead>\n",
       "  <tbody>\n",
       "    <tr>\n",
       "      <th>0</th>\n",
       "      <td>24852</td>\n",
       "      <td>Banana</td>\n",
       "      <td>55763</td>\n",
       "    </tr>\n",
       "    <tr>\n",
       "      <th>1</th>\n",
       "      <td>13176</td>\n",
       "      <td>Bag of Organic Bananas</td>\n",
       "      <td>44450</td>\n",
       "    </tr>\n",
       "    <tr>\n",
       "      <th>2</th>\n",
       "      <td>21137</td>\n",
       "      <td>Organic Strawberries</td>\n",
       "      <td>28639</td>\n",
       "    </tr>\n",
       "    <tr>\n",
       "      <th>3</th>\n",
       "      <td>21903</td>\n",
       "      <td>Organic Baby Spinach</td>\n",
       "      <td>26233</td>\n",
       "    </tr>\n",
       "    <tr>\n",
       "      <th>4</th>\n",
       "      <td>47209</td>\n",
       "      <td>Organic Hass Avocado</td>\n",
       "      <td>23629</td>\n",
       "    </tr>\n",
       "    <tr>\n",
       "      <th>5</th>\n",
       "      <td>47766</td>\n",
       "      <td>Organic Avocado</td>\n",
       "      <td>18743</td>\n",
       "    </tr>\n",
       "    <tr>\n",
       "      <th>6</th>\n",
       "      <td>27845</td>\n",
       "      <td>Organic Whole Milk</td>\n",
       "      <td>16251</td>\n",
       "    </tr>\n",
       "    <tr>\n",
       "      <th>7</th>\n",
       "      <td>47626</td>\n",
       "      <td>Large Lemon</td>\n",
       "      <td>15044</td>\n",
       "    </tr>\n",
       "    <tr>\n",
       "      <th>8</th>\n",
       "      <td>27966</td>\n",
       "      <td>Organic Raspberries</td>\n",
       "      <td>14748</td>\n",
       "    </tr>\n",
       "    <tr>\n",
       "      <th>9</th>\n",
       "      <td>16797</td>\n",
       "      <td>Strawberries</td>\n",
       "      <td>13945</td>\n",
       "    </tr>\n",
       "    <tr>\n",
       "      <th>10</th>\n",
       "      <td>26209</td>\n",
       "      <td>Limes</td>\n",
       "      <td>13327</td>\n",
       "    </tr>\n",
       "    <tr>\n",
       "      <th>11</th>\n",
       "      <td>22935</td>\n",
       "      <td>Organic Yellow Onion</td>\n",
       "      <td>11145</td>\n",
       "    </tr>\n",
       "    <tr>\n",
       "      <th>12</th>\n",
       "      <td>24964</td>\n",
       "      <td>Organic Garlic</td>\n",
       "      <td>10411</td>\n",
       "    </tr>\n",
       "    <tr>\n",
       "      <th>13</th>\n",
       "      <td>45007</td>\n",
       "      <td>Organic Zucchini</td>\n",
       "      <td>10076</td>\n",
       "    </tr>\n",
       "    <tr>\n",
       "      <th>14</th>\n",
       "      <td>49683</td>\n",
       "      <td>Cucumber Kirby</td>\n",
       "      <td>9538</td>\n",
       "    </tr>\n",
       "    <tr>\n",
       "      <th>15</th>\n",
       "      <td>28204</td>\n",
       "      <td>Organic Fuji Apple</td>\n",
       "      <td>8989</td>\n",
       "    </tr>\n",
       "    <tr>\n",
       "      <th>16</th>\n",
       "      <td>8277</td>\n",
       "      <td>Apple Honeycrisp Organic</td>\n",
       "      <td>8836</td>\n",
       "    </tr>\n",
       "    <tr>\n",
       "      <th>17</th>\n",
       "      <td>39275</td>\n",
       "      <td>Organic Blueberries</td>\n",
       "      <td>8799</td>\n",
       "    </tr>\n",
       "    <tr>\n",
       "      <th>18</th>\n",
       "      <td>5876</td>\n",
       "      <td>Organic Lemon</td>\n",
       "      <td>8412</td>\n",
       "    </tr>\n",
       "    <tr>\n",
       "      <th>19</th>\n",
       "      <td>49235</td>\n",
       "      <td>Organic Half &amp; Half</td>\n",
       "      <td>8389</td>\n",
       "    </tr>\n",
       "  </tbody>\n",
       "</table>\n",
       "</div>"
      ],
      "text/plain": [
       "    ID de Producto       Nombre del Producto  Veces Reordenado\n",
       "0            24852                    Banana             55763\n",
       "1            13176    Bag of Organic Bananas             44450\n",
       "2            21137      Organic Strawberries             28639\n",
       "3            21903      Organic Baby Spinach             26233\n",
       "4            47209      Organic Hass Avocado             23629\n",
       "5            47766           Organic Avocado             18743\n",
       "6            27845        Organic Whole Milk             16251\n",
       "7            47626               Large Lemon             15044\n",
       "8            27966       Organic Raspberries             14748\n",
       "9            16797              Strawberries             13945\n",
       "10           26209                     Limes             13327\n",
       "11           22935      Organic Yellow Onion             11145\n",
       "12           24964            Organic Garlic             10411\n",
       "13           45007          Organic Zucchini             10076\n",
       "14           49683            Cucumber Kirby              9538\n",
       "15           28204        Organic Fuji Apple              8989\n",
       "16            8277  Apple Honeycrisp Organic              8836\n",
       "17           39275       Organic Blueberries              8799\n",
       "18            5876             Organic Lemon              8412\n",
       "19           49235       Organic Half & Half              8389"
      ]
     },
     "execution_count": 32,
     "metadata": {},
     "output_type": "execute_result"
    }
   ],
   "source": [
    "top_reordenados = productos_reordenados['product_id'].value_counts().head(20).reset_index()\n",
    "top_reordenados.columns = ['product_id', 'count']\n",
    "top_reordenados = top_reordenados.merge(products, on='product_id')[['product_id', 'product_name', 'count']]\n",
    "top_reordenados.columns = ['ID de Producto', 'Nombre del Producto', 'Veces Reordenado']\n",
    "top_reordenados"
   ]
  },
  {
   "cell_type": "code",
   "execution_count": 33,
   "id": "professional-surfing",
   "metadata": {
    "id": "professional-surfing",
    "scrolled": true
   },
   "outputs": [
    {
     "data": {
      "text/html": [
       "<div>\n",
       "<style scoped>\n",
       "    .dataframe tbody tr th:only-of-type {\n",
       "        vertical-align: middle;\n",
       "    }\n",
       "\n",
       "    .dataframe tbody tr th {\n",
       "        vertical-align: top;\n",
       "    }\n",
       "\n",
       "    .dataframe thead th {\n",
       "        text-align: right;\n",
       "    }\n",
       "</style>\n",
       "<table border=\"1\" class=\"dataframe\">\n",
       "  <thead>\n",
       "    <tr style=\"text-align: right;\">\n",
       "      <th></th>\n",
       "      <th>ID de Producto</th>\n",
       "      <th>Nombre del Producto</th>\n",
       "      <th>Veces Reordenado</th>\n",
       "    </tr>\n",
       "  </thead>\n",
       "  <tbody>\n",
       "    <tr>\n",
       "      <th>0</th>\n",
       "      <td>24852</td>\n",
       "      <td>Banana</td>\n",
       "      <td>55763</td>\n",
       "    </tr>\n",
       "    <tr>\n",
       "      <th>1</th>\n",
       "      <td>13176</td>\n",
       "      <td>Bag of Organic Bananas</td>\n",
       "      <td>44450</td>\n",
       "    </tr>\n",
       "    <tr>\n",
       "      <th>2</th>\n",
       "      <td>21137</td>\n",
       "      <td>Organic Strawberries</td>\n",
       "      <td>28639</td>\n",
       "    </tr>\n",
       "    <tr>\n",
       "      <th>3</th>\n",
       "      <td>21903</td>\n",
       "      <td>Organic Baby Spinach</td>\n",
       "      <td>26233</td>\n",
       "    </tr>\n",
       "    <tr>\n",
       "      <th>4</th>\n",
       "      <td>47209</td>\n",
       "      <td>Organic Hass Avocado</td>\n",
       "      <td>23629</td>\n",
       "    </tr>\n",
       "  </tbody>\n",
       "</table>\n",
       "</div>"
      ],
      "text/plain": [
       "   ID de Producto     Nombre del Producto  Veces Reordenado\n",
       "0           24852                  Banana             55763\n",
       "1           13176  Bag of Organic Bananas             44450\n",
       "2           21137    Organic Strawberries             28639\n",
       "3           21903    Organic Baby Spinach             26233\n",
       "4           47209    Organic Hass Avocado             23629"
      ]
     },
     "execution_count": 33,
     "metadata": {},
     "output_type": "execute_result"
    }
   ],
   "source": [
    "top_reordenados.head()"
   ]
  },
  {
   "cell_type": "code",
   "execution_count": 34,
   "id": "48dd3658",
   "metadata": {
    "id": "48dd3658"
   },
   "outputs": [
    {
     "data": {
      "text/plain": [
       "<AxesSubplot:xlabel='Nombre del Producto'>"
      ]
     },
     "execution_count": 34,
     "metadata": {},
     "output_type": "execute_result"
    },
    {
     "data": {
      "image/png": "[encoded data removed]",
      "text/plain": [
       "<Figure size 1200x600 with 1 Axes>"
      ]
     },
     "metadata": {},
     "output_type": "display_data"
    }
   ],
   "source": [
    "top_reordenados.plot(kind='bar', x='Nombre del Producto', y='Veces Reordenado', figsize=(12,6))"
   ]
  },
  {
   "cell_type": "markdown",
   "id": "80e70c74",
   "metadata": {
    "id": "80e70c74"
   },
   "source": [
    "Conclusiones\n",
    "Los 20 productos más reordenados muestran una tendencia clara hacia frutas y verduras orgánicas. Esto podría indicar que las personas tienen hábitos de compra constantes con productos saludables y frescos. Destacan los plátanos, espinaca baby, fresas y aguacates, reflejando patrones de consumo regulares"
   ]
  },
  {
   "cell_type": "markdown",
   "id": "9d312b14",
   "metadata": {
    "id": "9d312b14"
   },
   "source": [
    "### [C3] Para cada producto, ¿cuál es la proporción de las veces que se pide y que se vuelve a pedir?"
   ]
  },
  {
   "cell_type": "code",
   "execution_count": 35,
   "id": "8ae9f4b1",
   "metadata": {
    "id": "8ae9f4b1"
   },
   "outputs": [
    {
     "data": {
      "text/html": [
       "<div>\n",
       "<style scoped>\n",
       "    .dataframe tbody tr th:only-of-type {\n",
       "        vertical-align: middle;\n",
       "    }\n",
       "\n",
       "    .dataframe tbody tr th {\n",
       "        vertical-align: top;\n",
       "    }\n",
       "\n",
       "    .dataframe thead th {\n",
       "        text-align: right;\n",
       "    }\n",
       "</style>\n",
       "<table border=\"1\" class=\"dataframe\">\n",
       "  <thead>\n",
       "    <tr style=\"text-align: right;\">\n",
       "      <th></th>\n",
       "      <th>product_id</th>\n",
       "      <th>product_name</th>\n",
       "      <th>tasa_reorden</th>\n",
       "    </tr>\n",
       "  </thead>\n",
       "  <tbody>\n",
       "    <tr>\n",
       "      <th>13453</th>\n",
       "      <td>14721</td>\n",
       "      <td>Bone Strength Take Care</td>\n",
       "      <td>1.0</td>\n",
       "    </tr>\n",
       "    <tr>\n",
       "      <th>19195</th>\n",
       "      <td>20949</td>\n",
       "      <td>Vanilla Sandwich Cookies</td>\n",
       "      <td>1.0</td>\n",
       "    </tr>\n",
       "    <tr>\n",
       "      <th>6136</th>\n",
       "      <td>6723</td>\n",
       "      <td>Palmiers- Petite</td>\n",
       "      <td>1.0</td>\n",
       "    </tr>\n",
       "    <tr>\n",
       "      <th>6144</th>\n",
       "      <td>6732</td>\n",
       "      <td>Naturally Sparkling Mineral Water</td>\n",
       "      <td>1.0</td>\n",
       "    </tr>\n",
       "    <tr>\n",
       "      <th>41319</th>\n",
       "      <td>45088</td>\n",
       "      <td>California Dill Pollen &amp; Garlic Goat Cheese &amp; ...</td>\n",
       "      <td>1.0</td>\n",
       "    </tr>\n",
       "    <tr>\n",
       "      <th>41310</th>\n",
       "      <td>45078</td>\n",
       "      <td>Pomegranatea</td>\n",
       "      <td>1.0</td>\n",
       "    </tr>\n",
       "    <tr>\n",
       "      <th>19258</th>\n",
       "      <td>21016</td>\n",
       "      <td>Parchment Lined 8 in x 3.75 in x 2.5 in Pans</td>\n",
       "      <td>1.0</td>\n",
       "    </tr>\n",
       "    <tr>\n",
       "      <th>19248</th>\n",
       "      <td>21005</td>\n",
       "      <td>Peanut Butter Pie Ice Cream</td>\n",
       "      <td>1.0</td>\n",
       "    </tr>\n",
       "    <tr>\n",
       "      <th>32273</th>\n",
       "      <td>35192</td>\n",
       "      <td>Chocolate Soy Milk Singles</td>\n",
       "      <td>1.0</td>\n",
       "    </tr>\n",
       "    <tr>\n",
       "      <th>32277</th>\n",
       "      <td>35197</td>\n",
       "      <td>Mocha Chocolate Chip  Organic Non-Dairy Frozen...</td>\n",
       "      <td>1.0</td>\n",
       "    </tr>\n",
       "  </tbody>\n",
       "</table>\n",
       "</div>"
      ],
      "text/plain": [
       "       product_id                                       product_name  \\\n",
       "13453       14721                            Bone Strength Take Care   \n",
       "19195       20949                           Vanilla Sandwich Cookies   \n",
       "6136         6723                                   Palmiers- Petite   \n",
       "6144         6732                  Naturally Sparkling Mineral Water   \n",
       "41319       45088  California Dill Pollen & Garlic Goat Cheese & ...   \n",
       "41310       45078                                       Pomegranatea   \n",
       "19258       21016       Parchment Lined 8 in x 3.75 in x 2.5 in Pans   \n",
       "19248       21005                        Peanut Butter Pie Ice Cream   \n",
       "32273       35192                         Chocolate Soy Milk Singles   \n",
       "32277       35197  Mocha Chocolate Chip  Organic Non-Dairy Frozen...   \n",
       "\n",
       "       tasa_reorden  \n",
       "13453           1.0  \n",
       "19195           1.0  \n",
       "6136            1.0  \n",
       "6144            1.0  \n",
       "41319           1.0  \n",
       "41310           1.0  \n",
       "19258           1.0  \n",
       "19248           1.0  \n",
       "32273           1.0  \n",
       "32277           1.0  "
      ]
     },
     "execution_count": 35,
     "metadata": {},
     "output_type": "execute_result"
    }
   ],
   "source": [
    "total_por_producto = order_products.groupby('product_id')['reordered'].count()\n",
    "reordenado_por_producto = order_products.groupby('product_id')['reordered'].sum()\n",
    "tasa_reorden = (reordenado_por_producto / total_por_producto).reset_index()\n",
    "tasa_reorden.columns = ['product_id', 'tasa_reorden']\n",
    "tasa_reorden = tasa_reorden.merge(products, on='product_id')[['product_id', 'product_name', 'tasa_reorden']]\n",
    "tasa_reorden.sort_values(by='tasa_reorden', ascending=False).head(10)"
   ]
  },
  {
   "cell_type": "code",
   "execution_count": 36,
   "id": "103e7fe1",
   "metadata": {
    "id": "103e7fe1"
   },
   "outputs": [
    {
     "data": {
      "text/html": [
       "<div>\n",
       "<style scoped>\n",
       "    .dataframe tbody tr th:only-of-type {\n",
       "        vertical-align: middle;\n",
       "    }\n",
       "\n",
       "    .dataframe tbody tr th {\n",
       "        vertical-align: top;\n",
       "    }\n",
       "\n",
       "    .dataframe thead th {\n",
       "        text-align: right;\n",
       "    }\n",
       "</style>\n",
       "<table border=\"1\" class=\"dataframe\">\n",
       "  <thead>\n",
       "    <tr style=\"text-align: right;\">\n",
       "      <th></th>\n",
       "      <th>product_id</th>\n",
       "      <th>product_name</th>\n",
       "      <th>tasa_reorden</th>\n",
       "    </tr>\n",
       "  </thead>\n",
       "  <tbody>\n",
       "    <tr>\n",
       "      <th>13453</th>\n",
       "      <td>14721</td>\n",
       "      <td>Bone Strength Take Care</td>\n",
       "      <td>1.0</td>\n",
       "    </tr>\n",
       "    <tr>\n",
       "      <th>19195</th>\n",
       "      <td>20949</td>\n",
       "      <td>Vanilla Sandwich Cookies</td>\n",
       "      <td>1.0</td>\n",
       "    </tr>\n",
       "    <tr>\n",
       "      <th>6136</th>\n",
       "      <td>6723</td>\n",
       "      <td>Palmiers- Petite</td>\n",
       "      <td>1.0</td>\n",
       "    </tr>\n",
       "    <tr>\n",
       "      <th>6144</th>\n",
       "      <td>6732</td>\n",
       "      <td>Naturally Sparkling Mineral Water</td>\n",
       "      <td>1.0</td>\n",
       "    </tr>\n",
       "    <tr>\n",
       "      <th>41319</th>\n",
       "      <td>45088</td>\n",
       "      <td>California Dill Pollen &amp; Garlic Goat Cheese &amp; ...</td>\n",
       "      <td>1.0</td>\n",
       "    </tr>\n",
       "    <tr>\n",
       "      <th>41310</th>\n",
       "      <td>45078</td>\n",
       "      <td>Pomegranatea</td>\n",
       "      <td>1.0</td>\n",
       "    </tr>\n",
       "    <tr>\n",
       "      <th>19258</th>\n",
       "      <td>21016</td>\n",
       "      <td>Parchment Lined 8 in x 3.75 in x 2.5 in Pans</td>\n",
       "      <td>1.0</td>\n",
       "    </tr>\n",
       "    <tr>\n",
       "      <th>19248</th>\n",
       "      <td>21005</td>\n",
       "      <td>Peanut Butter Pie Ice Cream</td>\n",
       "      <td>1.0</td>\n",
       "    </tr>\n",
       "    <tr>\n",
       "      <th>32273</th>\n",
       "      <td>35192</td>\n",
       "      <td>Chocolate Soy Milk Singles</td>\n",
       "      <td>1.0</td>\n",
       "    </tr>\n",
       "    <tr>\n",
       "      <th>32277</th>\n",
       "      <td>35197</td>\n",
       "      <td>Mocha Chocolate Chip  Organic Non-Dairy Frozen...</td>\n",
       "      <td>1.0</td>\n",
       "    </tr>\n",
       "  </tbody>\n",
       "</table>\n",
       "</div>"
      ],
      "text/plain": [
       "       product_id                                       product_name  \\\n",
       "13453       14721                            Bone Strength Take Care   \n",
       "19195       20949                           Vanilla Sandwich Cookies   \n",
       "6136         6723                                   Palmiers- Petite   \n",
       "6144         6732                  Naturally Sparkling Mineral Water   \n",
       "41319       45088  California Dill Pollen & Garlic Goat Cheese & ...   \n",
       "41310       45078                                       Pomegranatea   \n",
       "19258       21016       Parchment Lined 8 in x 3.75 in x 2.5 in Pans   \n",
       "19248       21005                        Peanut Butter Pie Ice Cream   \n",
       "32273       35192                         Chocolate Soy Milk Singles   \n",
       "32277       35197  Mocha Chocolate Chip  Organic Non-Dairy Frozen...   \n",
       "\n",
       "       tasa_reorden  \n",
       "13453           1.0  \n",
       "19195           1.0  \n",
       "6136            1.0  \n",
       "6144            1.0  \n",
       "41319           1.0  \n",
       "41310           1.0  \n",
       "19258           1.0  \n",
       "19248           1.0  \n",
       "32273           1.0  \n",
       "32277           1.0  "
      ]
     },
     "execution_count": 36,
     "metadata": {},
     "output_type": "execute_result"
    }
   ],
   "source": [
    "tasa_reorden.sort_values(by='tasa_reorden', ascending=False).head(10)"
   ]
  },
  {
   "cell_type": "code",
   "execution_count": 37,
   "id": "social-individual",
   "metadata": {
    "id": "social-individual"
   },
   "outputs": [
    {
     "data": {
      "text/plain": [
       "<AxesSubplot:xlabel='product_name'>"
      ]
     },
     "execution_count": 37,
     "metadata": {},
     "output_type": "execute_result"
    },
    {
     "data": {
      "image/png": "[encoded data removed]",
      "text/plain": [
       "<Figure size 1200x600 with 1 Axes>"
      ]
     },
     "metadata": {},
     "output_type": "display_data"
    }
   ],
   "source": [
    "tasa_reorden.sort_values(by='tasa_reorden', ascending=False).head(10).plot(\n",
    "    kind='bar', x='product_name', y='tasa_reorden', figsize=(12,6)\n",
    ")"
   ]
  },
  {
   "cell_type": "markdown",
   "id": "I10dEIAyldcO",
   "metadata": {
    "id": "I10dEIAyldcO"
   },
   "source": [
    "Conclusiones\n",
    "\n",
    "Los productos con mayor tasa de repetición son los que los usuarios vuelven a pedir con más frecuencia. Algunos tienen una tasa superior al 90%, lo que indica gran satisfacción o necesidad recurrente. Esto permite identificar productos esenciales dentro del comportamiento de compra"
   ]
  },
  {
   "cell_type": "markdown",
   "id": "subject-boxing",
   "metadata": {
    "id": "subject-boxing"
   },
   "source": [
    "### [C4] Para cada cliente, ¿qué proporción de sus productos ya los había pedido?"
   ]
  },
  {
   "cell_type": "code",
   "execution_count": 40,
   "id": "medical-couple",
   "metadata": {
    "id": "medical-couple",
    "scrolled": true
   },
   "outputs": [
    {
     "data": {
      "text/html": [
       "<div>\n",
       "<style scoped>\n",
       "    .dataframe tbody tr th:only-of-type {\n",
       "        vertical-align: middle;\n",
       "    }\n",
       "\n",
       "    .dataframe tbody tr th {\n",
       "        vertical-align: top;\n",
       "    }\n",
       "\n",
       "    .dataframe thead th {\n",
       "        text-align: right;\n",
       "    }\n",
       "</style>\n",
       "<table border=\"1\" class=\"dataframe\">\n",
       "  <thead>\n",
       "    <tr style=\"text-align: right;\">\n",
       "      <th></th>\n",
       "      <th>user_id</th>\n",
       "      <th>proporcion_reorden</th>\n",
       "    </tr>\n",
       "  </thead>\n",
       "  <tbody>\n",
       "    <tr>\n",
       "      <th>0</th>\n",
       "      <td>2</td>\n",
       "      <td>0.038462</td>\n",
       "    </tr>\n",
       "    <tr>\n",
       "      <th>1</th>\n",
       "      <td>4</td>\n",
       "      <td>0.000000</td>\n",
       "    </tr>\n",
       "    <tr>\n",
       "      <th>2</th>\n",
       "      <td>5</td>\n",
       "      <td>0.666667</td>\n",
       "    </tr>\n",
       "    <tr>\n",
       "      <th>3</th>\n",
       "      <td>6</td>\n",
       "      <td>0.000000</td>\n",
       "    </tr>\n",
       "    <tr>\n",
       "      <th>4</th>\n",
       "      <td>7</td>\n",
       "      <td>0.928571</td>\n",
       "    </tr>\n",
       "  </tbody>\n",
       "</table>\n",
       "</div>"
      ],
      "text/plain": [
       "   user_id  proporcion_reorden\n",
       "0        2            0.038462\n",
       "1        4            0.000000\n",
       "2        5            0.666667\n",
       "3        6            0.000000\n",
       "4        7            0.928571"
      ]
     },
     "execution_count": 40,
     "metadata": {},
     "output_type": "execute_result"
    }
   ],
   "source": [
    "order_user = order_products.merge(instacart_orders[['order_id', 'user_id']], on='order_id')\n",
    "reorden_por_usuario = order_user.groupby('user_id')['reordered'].mean().reset_index()\n",
    "reorden_por_usuario.columns = ['user_id', 'proporcion_reorden']\n",
    "reorden_por_usuario.head()"
   ]
  },
  {
   "cell_type": "code",
   "execution_count": 41,
   "id": "8892e4b4",
   "metadata": {
    "id": "8892e4b4"
   },
   "outputs": [
    {
     "data": {
      "text/plain": [
       "<AxesSubplot:ylabel='Frequency'>"
      ]
     },
     "execution_count": 41,
     "metadata": {},
     "output_type": "execute_result"
    },
    {
     "data": {
      "image/png": "[encoded data removed]",
      "text/plain": [
       "<Figure size 1000x600 with 1 Axes>"
      ]
     },
     "metadata": {},
     "output_type": "display_data"
    }
   ],
   "source": [
    "reorden_por_usuario['proporcion_reorden'].plot(kind='hist', bins=30, figsize=(10,6))"
   ]
  },
  {
   "cell_type": "markdown",
   "id": "BgJSvXDsleXz",
   "metadata": {
    "id": "BgJSvXDsleXz"
   },
   "source": [
    "Conclusiones\n",
    "Al calcular la proporción de productos que ya habían sido pedidos por cada cliente, encontramos que algunos usuarios tienen un comportamiento de recompra alto, mientras que otros compran productos nuevos con más frecuencia. Esta información puede ser útil para segmentar a los usuarios según su lealtad a ciertos productos."
   ]
  },
  {
   "cell_type": "markdown",
   "id": "92d35137",
   "metadata": {
    "id": "92d35137"
   },
   "source": [
    "### [C5] ¿Cuáles son los 20 principales artículos que las personas ponen primero en sus carritos?"
   ]
  },
  {
   "cell_type": "code",
   "execution_count": 32,
   "id": "0ae57274",
   "metadata": {
    "id": "0ae57274",
    "scrolled": true
   },
   "outputs": [],
   "source": [
    "primeros_productos = order_products[order_products['add_to_cart_order'] == 1]"
   ]
  },
  {
   "cell_type": "code",
   "execution_count": 33,
   "id": "forty-netherlands",
   "metadata": {
    "id": "forty-netherlands",
    "scrolled": true
   },
   "outputs": [],
   "source": [
    "primeros_mas_frecuentes = primeros_productos['product_id'].value_counts().head(20).reset_index()\n",
    "primeros_mas_frecuentes.columns = ['product_id', 'count']"
   ]
  },
  {
   "cell_type": "code",
   "execution_count": 34,
   "id": "08e41ec2",
   "metadata": {
    "id": "08e41ec2"
   },
   "outputs": [
    {
     "data": {
      "text/html": [
       "<div>\n",
       "<style scoped>\n",
       "    .dataframe tbody tr th:only-of-type {\n",
       "        vertical-align: middle;\n",
       "    }\n",
       "\n",
       "    .dataframe tbody tr th {\n",
       "        vertical-align: top;\n",
       "    }\n",
       "\n",
       "    .dataframe thead th {\n",
       "        text-align: right;\n",
       "    }\n",
       "</style>\n",
       "<table border=\"1\" class=\"dataframe\">\n",
       "  <thead>\n",
       "    <tr style=\"text-align: right;\">\n",
       "      <th></th>\n",
       "      <th>product_id</th>\n",
       "      <th>count</th>\n",
       "      <th>product_name</th>\n",
       "    </tr>\n",
       "  </thead>\n",
       "  <tbody>\n",
       "    <tr>\n",
       "      <th>0</th>\n",
       "      <td>24852</td>\n",
       "      <td>15562</td>\n",
       "      <td>Banana</td>\n",
       "    </tr>\n",
       "    <tr>\n",
       "      <th>1</th>\n",
       "      <td>13176</td>\n",
       "      <td>11026</td>\n",
       "      <td>Bag of Organic Bananas</td>\n",
       "    </tr>\n",
       "    <tr>\n",
       "      <th>2</th>\n",
       "      <td>27845</td>\n",
       "      <td>4363</td>\n",
       "      <td>Organic Whole Milk</td>\n",
       "    </tr>\n",
       "    <tr>\n",
       "      <th>3</th>\n",
       "      <td>21137</td>\n",
       "      <td>3946</td>\n",
       "      <td>Organic Strawberries</td>\n",
       "    </tr>\n",
       "    <tr>\n",
       "      <th>4</th>\n",
       "      <td>47209</td>\n",
       "      <td>3390</td>\n",
       "      <td>Organic Hass Avocado</td>\n",
       "    </tr>\n",
       "    <tr>\n",
       "      <th>5</th>\n",
       "      <td>21903</td>\n",
       "      <td>3336</td>\n",
       "      <td>Organic Baby Spinach</td>\n",
       "    </tr>\n",
       "    <tr>\n",
       "      <th>6</th>\n",
       "      <td>47766</td>\n",
       "      <td>3044</td>\n",
       "      <td>Organic Avocado</td>\n",
       "    </tr>\n",
       "    <tr>\n",
       "      <th>7</th>\n",
       "      <td>19660</td>\n",
       "      <td>2336</td>\n",
       "      <td>Spring Water</td>\n",
       "    </tr>\n",
       "    <tr>\n",
       "      <th>8</th>\n",
       "      <td>16797</td>\n",
       "      <td>2308</td>\n",
       "      <td>Strawberries</td>\n",
       "    </tr>\n",
       "    <tr>\n",
       "      <th>9</th>\n",
       "      <td>27966</td>\n",
       "      <td>2024</td>\n",
       "      <td>Organic Raspberries</td>\n",
       "    </tr>\n",
       "    <tr>\n",
       "      <th>10</th>\n",
       "      <td>44632</td>\n",
       "      <td>1914</td>\n",
       "      <td>Sparkling Water Grapefruit</td>\n",
       "    </tr>\n",
       "    <tr>\n",
       "      <th>11</th>\n",
       "      <td>49235</td>\n",
       "      <td>1797</td>\n",
       "      <td>Organic Half &amp; Half</td>\n",
       "    </tr>\n",
       "    <tr>\n",
       "      <th>12</th>\n",
       "      <td>47626</td>\n",
       "      <td>1737</td>\n",
       "      <td>Large Lemon</td>\n",
       "    </tr>\n",
       "    <tr>\n",
       "      <th>13</th>\n",
       "      <td>196</td>\n",
       "      <td>1733</td>\n",
       "      <td>Soda</td>\n",
       "    </tr>\n",
       "    <tr>\n",
       "      <th>14</th>\n",
       "      <td>38689</td>\n",
       "      <td>1397</td>\n",
       "      <td>Organic Reduced Fat Milk</td>\n",
       "    </tr>\n",
       "    <tr>\n",
       "      <th>15</th>\n",
       "      <td>26209</td>\n",
       "      <td>1370</td>\n",
       "      <td>Limes</td>\n",
       "    </tr>\n",
       "    <tr>\n",
       "      <th>16</th>\n",
       "      <td>12341</td>\n",
       "      <td>1340</td>\n",
       "      <td>Hass Avocados</td>\n",
       "    </tr>\n",
       "    <tr>\n",
       "      <th>17</th>\n",
       "      <td>5785</td>\n",
       "      <td>1310</td>\n",
       "      <td>Organic Reduced Fat 2% Milk</td>\n",
       "    </tr>\n",
       "    <tr>\n",
       "      <th>18</th>\n",
       "      <td>27086</td>\n",
       "      <td>1309</td>\n",
       "      <td>Half &amp; Half</td>\n",
       "    </tr>\n",
       "    <tr>\n",
       "      <th>19</th>\n",
       "      <td>22935</td>\n",
       "      <td>1246</td>\n",
       "      <td>Organic Yellow Onion</td>\n",
       "    </tr>\n",
       "  </tbody>\n",
       "</table>\n",
       "</div>"
      ],
      "text/plain": [
       "    product_id  count                 product_name\n",
       "0        24852  15562                       Banana\n",
       "1        13176  11026       Bag of Organic Bananas\n",
       "2        27845   4363           Organic Whole Milk\n",
       "3        21137   3946         Organic Strawberries\n",
       "4        47209   3390         Organic Hass Avocado\n",
       "5        21903   3336         Organic Baby Spinach\n",
       "6        47766   3044              Organic Avocado\n",
       "7        19660   2336                 Spring Water\n",
       "8        16797   2308                 Strawberries\n",
       "9        27966   2024          Organic Raspberries\n",
       "10       44632   1914   Sparkling Water Grapefruit\n",
       "11       49235   1797          Organic Half & Half\n",
       "12       47626   1737                  Large Lemon\n",
       "13         196   1733                         Soda\n",
       "14       38689   1397     Organic Reduced Fat Milk\n",
       "15       26209   1370                        Limes\n",
       "16       12341   1340                Hass Avocados\n",
       "17        5785   1310  Organic Reduced Fat 2% Milk\n",
       "18       27086   1309                  Half & Half\n",
       "19       22935   1246         Organic Yellow Onion"
      ]
     },
     "execution_count": 34,
     "metadata": {},
     "output_type": "execute_result"
    }
   ],
   "source": [
    "primeros_mas_frecuentes = primeros_mas_frecuentes.merge(products[['product_id', 'product_name']], on='product_id')\n",
    "primeros_mas_frecuentes"
   ]
  },
  {
   "cell_type": "code",
   "execution_count": 46,
   "id": "2f13035d",
   "metadata": {},
   "outputs": [
    {
     "data": {
      "image/png": "[encoded data removed]",
      "text/plain": [
       "<Figure size 1200x600 with 1 Axes>"
      ]
     },
     "metadata": {},
     "output_type": "display_data"
    }
   ],
   "source": [
    "plt.figure(figsize=(12, 6))\n",
    "plt.barh(primeros_mas_frecuentes['product_name'], primeros_mas_frecuentes['count'], color='mediumseagreen')\n",
    "plt.xlabel('Número de veces añadido primero')\n",
    "plt.ylabel('Producto')\n",
    "plt.title('Top 20 productos añadidos primero al carrito')\n",
    "plt.gca().invert_yaxis()  # Para que el más popular quede arriba\n",
    "plt.grid(axis='x')\n",
    "plt.tight_layout()\n",
    "plt.show()"
   ]
  },
  {
   "cell_type": "markdown",
   "id": "28ce9872",
   "metadata": {
    "id": "28ce9872"
   },
   "source": [
    "Conclusiones\n",
    "\n",
    "Entre los 20 artículos que más se agregan como primeros en el carrito, destacan productos básicos y frescos como plátanos, leche, espinaca y fresas orgánicas. Esto sugiere que las personas tienden a comenzar su compra con productos esenciales y de consumo frecuente."
   ]
  },
  {
   "cell_type": "markdown",
   "id": "uITbFCEoDosC",
   "metadata": {
    "id": "uITbFCEoDosC"
   },
   "source": [
    "### Conclusion general del proyecto:"
   ]
  },
  {
   "cell_type": "markdown",
   "id": "0816d43f",
   "metadata": {
    "id": "Nk-4GS7mDwqY"
   },
   "source": [
    "Durante el análisis de datos de Instacart, realice una limpieza profunda \n",
    "de dataset, eliminando duplicados, tratando valores nulos y asegurando la calidad de los datos. \n",
    "A partir de ello, se identificaron patrones de compra claros: los usuarios tienden a comprar productos frescos y orgánicos, \n",
    "con comportamientos de recompra frecuentes. \n",
    "\n",
    "También observé que los pedidos se concentran en ciertas horas y días, \n",
    "y que existen productos preferidos que son recurrentemente agregados primero al carrito. \n",
    "Este análisis permite considerar lo siguiente:\n",
    "    \n",
    "- segmentar a los clientes \n",
    "- entender su comportamiento\n",
    "- ofrecer oportunidades para personalizar ofertas\n",
    "- mejorar la experiencia de compra\n",
    "- optimizar la logística."
   ]
  },
  {
   "cell_type": "code",
   "execution_count": null,
   "id": "102a4c4d",
   "metadata": {},
   "outputs": [],
   "source": []
  }
 ],
 "metadata": {
  "ExecuteTimeLog": [
   {
    "duration": 328,
    "start_time": "2025-04-28T20:35:02.036Z"
   },
   {
    "duration": 2182,
    "start_time": "2025-04-28T20:37:55.667Z"
   },
   {
    "duration": 23,
    "start_time": "2025-04-28T20:39:09.088Z"
   },
   {
    "duration": 10,
    "start_time": "2025-04-28T20:39:25.811Z"
   },
   {
    "duration": 8,
    "start_time": "2025-04-28T20:39:41.298Z"
   },
   {
    "duration": 7,
    "start_time": "2025-04-28T20:39:54.233Z"
   },
   {
    "duration": 8,
    "start_time": "2025-04-28T20:40:08.827Z"
   },
   {
    "duration": 185,
    "start_time": "2025-04-28T21:01:14.231Z"
   },
   {
    "duration": 789,
    "start_time": "2025-04-28T21:03:47.920Z"
   },
   {
    "duration": 389,
    "start_time": "2025-04-28T21:04:59.608Z"
   },
   {
    "duration": 43,
    "start_time": "2025-04-28T21:05:10.203Z"
   },
   {
    "duration": 46,
    "start_time": "2025-04-28T21:06:37.332Z"
   },
   {
    "duration": 907,
    "start_time": "2025-04-28T21:13:59.745Z"
   },
   {
    "duration": 11,
    "start_time": "2025-04-28T21:14:06.661Z"
   },
   {
    "duration": 11,
    "start_time": "2025-04-28T21:14:10.569Z"
   },
   {
    "duration": 7,
    "start_time": "2025-04-28T21:14:11.793Z"
   },
   {
    "duration": 8,
    "start_time": "2025-04-28T21:14:12.833Z"
   },
   {
    "duration": 9,
    "start_time": "2025-04-28T21:14:13.642Z"
   },
   {
    "duration": 154,
    "start_time": "2025-04-28T21:14:20.488Z"
   },
   {
    "duration": 17,
    "start_time": "2025-04-28T21:14:24.521Z"
   },
   {
    "duration": 94,
    "start_time": "2025-04-28T21:27:45.530Z"
   },
   {
    "duration": 106,
    "start_time": "2025-04-28T21:28:34.448Z"
   },
   {
    "duration": 27,
    "start_time": "2025-04-28T21:29:05.350Z"
   },
   {
    "duration": 15,
    "start_time": "2025-04-28T21:34:38.769Z"
   },
   {
    "duration": 4,
    "start_time": "2025-04-28T21:35:14.802Z"
   },
   {
    "duration": 8,
    "start_time": "2025-04-28T21:36:08.203Z"
   },
   {
    "duration": 19,
    "start_time": "2025-04-28T21:36:20.318Z"
   },
   {
    "duration": 22,
    "start_time": "2025-04-28T21:36:30.845Z"
   },
   {
    "duration": 12,
    "start_time": "2025-04-28T21:41:02.609Z"
   },
   {
    "duration": 5,
    "start_time": "2025-04-28T21:41:08.615Z"
   },
   {
    "duration": 4,
    "start_time": "2025-04-28T21:41:38.414Z"
   },
   {
    "duration": 5,
    "start_time": "2025-04-28T21:42:34.408Z"
   },
   {
    "duration": 4,
    "start_time": "2025-04-28T21:43:03.682Z"
   },
   {
    "duration": 782,
    "start_time": "2025-04-28T21:43:52.044Z"
   },
   {
    "duration": 816,
    "start_time": "2025-04-28T21:44:31.670Z"
   },
   {
    "duration": 15,
    "start_time": "2025-04-28T21:47:18.580Z"
   },
   {
    "duration": 7,
    "start_time": "2025-04-28T21:49:32.169Z"
   },
   {
    "duration": 7,
    "start_time": "2025-04-28T21:51:14.349Z"
   },
   {
    "duration": 7,
    "start_time": "2025-04-28T21:54:03.878Z"
   },
   {
    "duration": 5,
    "start_time": "2025-04-28T21:55:58.765Z"
   },
   {
    "duration": 16,
    "start_time": "2025-04-28T21:58:29.740Z"
   },
   {
    "duration": 10,
    "start_time": "2025-04-28T21:59:38.008Z"
   },
   {
    "duration": 36,
    "start_time": "2025-04-28T22:01:04.407Z"
   },
   {
    "duration": 35,
    "start_time": "2025-04-28T22:01:16.328Z"
   },
   {
    "duration": 157,
    "start_time": "2025-04-29T15:23:27.057Z"
   },
   {
    "duration": 13,
    "start_time": "2025-04-29T15:23:54.419Z"
   },
   {
    "duration": 13,
    "start_time": "2025-04-29T15:24:01.868Z"
   },
   {
    "duration": 13,
    "start_time": "2025-04-29T15:24:21.042Z"
   },
   {
    "duration": 12,
    "start_time": "2025-04-29T15:24:41.764Z"
   },
   {
    "duration": 320,
    "start_time": "2025-04-29T15:24:46.861Z"
   },
   {
    "duration": 994,
    "start_time": "2025-04-29T15:24:49.167Z"
   },
   {
    "duration": 12,
    "start_time": "2025-04-29T15:24:52.042Z"
   },
   {
    "duration": 10,
    "start_time": "2025-04-29T15:24:55.299Z"
   },
   {
    "duration": 6,
    "start_time": "2025-04-29T15:24:55.976Z"
   },
   {
    "duration": 7,
    "start_time": "2025-04-29T15:24:56.620Z"
   },
   {
    "duration": 8,
    "start_time": "2025-04-29T15:24:58.486Z"
   },
   {
    "duration": 185,
    "start_time": "2025-04-29T15:25:02.754Z"
   },
   {
    "duration": 14,
    "start_time": "2025-04-29T15:25:10.331Z"
   },
   {
    "duration": 62,
    "start_time": "2025-04-29T15:28:04.824Z"
   },
   {
    "duration": 21,
    "start_time": "2025-04-29T15:28:37.163Z"
   },
   {
    "duration": 307,
    "start_time": "2025-04-29T16:20:21.084Z"
   },
   {
    "duration": 973,
    "start_time": "2025-04-29T16:20:22.877Z"
   },
   {
    "duration": 11,
    "start_time": "2025-04-29T16:20:25.395Z"
   },
   {
    "duration": 10,
    "start_time": "2025-04-29T16:20:25.847Z"
   },
   {
    "duration": 9,
    "start_time": "2025-04-29T16:20:26.326Z"
   },
   {
    "duration": 8,
    "start_time": "2025-04-29T16:20:26.735Z"
   },
   {
    "duration": 7,
    "start_time": "2025-04-29T16:26:59.849Z"
   },
   {
    "duration": 14,
    "start_time": "2025-04-29T16:27:16.230Z"
   },
   {
    "duration": 2040,
    "start_time": "2025-04-29T16:29:31.612Z"
   },
   {
    "duration": 130,
    "start_time": "2025-04-29T16:31:03.504Z"
   },
   {
    "duration": 179,
    "start_time": "2025-04-29T16:31:49.347Z"
   },
   {
    "duration": 9,
    "start_time": "2025-04-29T16:35:15.679Z"
   },
   {
    "duration": 4,
    "start_time": "2025-04-29T16:35:27.052Z"
   },
   {
    "duration": 5,
    "start_time": "2025-04-29T16:35:38.633Z"
   },
   {
    "duration": 375,
    "start_time": "2025-04-29T16:35:53.348Z"
   },
   {
    "duration": 18,
    "start_time": "2025-04-29T16:39:25.602Z"
   },
   {
    "duration": 257,
    "start_time": "2025-04-29T16:39:34.867Z"
   },
   {
    "duration": 85,
    "start_time": "2025-04-29T16:40:10.815Z"
   },
   {
    "duration": 484,
    "start_time": "2025-04-29T16:40:20.132Z"
   },
   {
    "duration": 87,
    "start_time": "2025-04-29T16:42:11.434Z"
   },
   {
    "duration": 35,
    "start_time": "2025-04-29T16:42:54.692Z"
   },
   {
    "duration": 89,
    "start_time": "2025-04-29T16:44:31.973Z"
   },
   {
    "duration": 100,
    "start_time": "2025-04-29T16:44:56.070Z"
   },
   {
    "duration": 99,
    "start_time": "2025-04-29T16:45:11.690Z"
   },
   {
    "duration": 101,
    "start_time": "2025-04-29T16:45:21.138Z"
   },
   {
    "duration": 6,
    "start_time": "2025-04-29T16:47:28.882Z"
   },
   {
    "duration": 95,
    "start_time": "2025-04-29T16:48:19.536Z"
   },
   {
    "duration": 341,
    "start_time": "2025-04-29T16:50:10.692Z"
   },
   {
    "duration": 178,
    "start_time": "2025-04-29T16:50:27.208Z"
   },
   {
    "duration": 7,
    "start_time": "2025-04-29T16:50:40.148Z"
   },
   {
    "duration": 89,
    "start_time": "2025-04-29T16:54:11.308Z"
   },
   {
    "duration": 57,
    "start_time": "2025-04-29T16:54:31.953Z"
   },
   {
    "duration": 8,
    "start_time": "2025-04-29T16:54:47.933Z"
   },
   {
    "duration": 250,
    "start_time": "2025-04-29T16:55:04.885Z"
   },
   {
    "duration": 200,
    "start_time": "2025-04-29T16:57:55.532Z"
   },
   {
    "duration": 16,
    "start_time": "2025-04-29T16:58:07.542Z"
   },
   {
    "duration": 204,
    "start_time": "2025-04-29T16:58:22.026Z"
   },
   {
    "duration": 217,
    "start_time": "2025-04-29T17:00:27.489Z"
   },
   {
    "duration": 792,
    "start_time": "2025-04-29T17:04:02.741Z"
   },
   {
    "duration": 861,
    "start_time": "2025-04-29T17:06:31.399Z"
   },
   {
    "duration": 161,
    "start_time": "2025-04-29T17:07:20.613Z"
   },
   {
    "duration": 25,
    "start_time": "2025-04-29T17:10:53.791Z"
   },
   {
    "duration": 8,
    "start_time": "2025-04-29T17:12:24.051Z"
   },
   {
    "duration": 13,
    "start_time": "2025-04-29T17:13:41.527Z"
   },
   {
    "duration": 7,
    "start_time": "2025-04-29T17:18:11.347Z"
   },
   {
    "duration": 8,
    "start_time": "2025-04-30T00:01:23.693Z"
   },
   {
    "duration": 331,
    "start_time": "2025-05-02T20:32:11.224Z"
   },
   {
    "duration": 977,
    "start_time": "2025-05-02T20:32:13.376Z"
   },
   {
    "duration": 11,
    "start_time": "2025-05-02T20:32:15.885Z"
   },
   {
    "duration": 11,
    "start_time": "2025-05-02T20:32:17.822Z"
   },
   {
    "duration": 24,
    "start_time": "2025-05-02T20:37:04.255Z"
   },
   {
    "duration": 7,
    "start_time": "2025-05-02T20:37:53.640Z"
   },
   {
    "duration": 10,
    "start_time": "2025-05-02T20:37:55.570Z"
   },
   {
    "duration": 164,
    "start_time": "2025-05-02T20:38:01.936Z"
   },
   {
    "duration": 17,
    "start_time": "2025-05-02T20:38:06.784Z"
   },
   {
    "duration": 7,
    "start_time": "2025-05-02T20:44:14.707Z"
   },
   {
    "duration": 1857,
    "start_time": "2025-05-02T20:49:51.837Z"
   },
   {
    "duration": 848,
    "start_time": "2025-05-02T20:49:53.696Z"
   },
   {
    "duration": 11,
    "start_time": "2025-05-02T20:49:54.546Z"
   },
   {
    "duration": 10,
    "start_time": "2025-05-02T20:49:55.751Z"
   },
   {
    "duration": 21,
    "start_time": "2025-05-02T20:49:59.166Z"
   },
   {
    "duration": 8,
    "start_time": "2025-05-02T20:50:02.886Z"
   },
   {
    "duration": 9,
    "start_time": "2025-05-02T20:50:04.339Z"
   },
   {
    "duration": 200,
    "start_time": "2025-05-02T20:50:22.085Z"
   },
   {
    "duration": 2,
    "start_time": "2025-05-02T20:56:37.964Z"
   },
   {
    "duration": 185,
    "start_time": "2025-05-02T20:56:52.579Z"
   },
   {
    "duration": 18,
    "start_time": "2025-05-02T20:57:12.935Z"
   },
   {
    "duration": 87,
    "start_time": "2025-05-02T21:00:17.297Z"
   },
   {
    "duration": 3,
    "start_time": "2025-05-02T21:00:34.917Z"
   },
   {
    "duration": 358,
    "start_time": "2025-05-02T21:01:05.378Z"
   },
   {
    "duration": 373,
    "start_time": "2025-05-02T21:01:35.623Z"
   },
   {
    "duration": 17,
    "start_time": "2025-05-02T21:01:45.733Z"
   },
   {
    "duration": 230,
    "start_time": "2025-05-02T21:01:50.168Z"
   },
   {
    "duration": 145,
    "start_time": "2025-05-02T21:01:56.218Z"
   },
   {
    "duration": 223,
    "start_time": "2025-05-02T21:05:37.204Z"
   },
   {
    "duration": 249,
    "start_time": "2025-05-02T21:05:54.303Z"
   },
   {
    "duration": 12,
    "start_time": "2025-05-02T21:08:50.918Z"
   },
   {
    "duration": 34,
    "start_time": "2025-05-02T21:08:55.615Z"
   },
   {
    "duration": 9,
    "start_time": "2025-05-02T21:08:57.135Z"
   },
   {
    "duration": 14,
    "start_time": "2025-05-02T21:08:58.840Z"
   },
   {
    "duration": 12,
    "start_time": "2025-05-02T21:09:02.707Z"
   },
   {
    "duration": 36,
    "start_time": "2025-05-02T21:10:38.230Z"
   },
   {
    "duration": 4,
    "start_time": "2025-05-02T21:10:50.901Z"
   },
   {
    "duration": 409,
    "start_time": "2025-05-02T21:11:16.063Z"
   },
   {
    "duration": 33,
    "start_time": "2025-05-02T21:14:11.457Z"
   },
   {
    "duration": 394,
    "start_time": "2025-05-02T21:14:23.359Z"
   },
   {
    "duration": 34,
    "start_time": "2025-05-02T21:14:53.436Z"
   },
   {
    "duration": 28,
    "start_time": "2025-05-02T21:15:06.722Z"
   },
   {
    "duration": 36,
    "start_time": "2025-05-02T21:15:10.287Z"
   },
   {
    "duration": 57,
    "start_time": "2025-05-02T21:15:34.042Z"
   },
   {
    "duration": 30,
    "start_time": "2025-05-02T21:18:12.898Z"
   },
   {
    "duration": 318,
    "start_time": "2025-05-02T21:18:39.249Z"
   }
  ],
  "colab": {
   "provenance": [
    {
     "file_id": "1aLGZ19-GYem3LZdYHuzuwYIeSw_tr0AT",
     "timestamp": 1689682143157
    }
   ]
  },
  "kernelspec": {
   "display_name": "Python [conda env:base] *",
   "language": "python",
   "name": "conda-base-py"
  },
  "language_info": {
   "codemirror_mode": {
    "name": "ipython",
    "version": 3
   },
   "file_extension": ".py",
   "mimetype": "text/x-python",
   "name": "python",
   "nbconvert_exporter": "python",
   "pygments_lexer": "ipython3",
   "version": "3.12.7"
  },
  "toc": {
   "base_numbering": 1,
   "nav_menu": {},
   "number_sections": true,
   "sideBar": true,
   "skip_h1_title": true,
   "title_cell": "Table of Contents",
   "title_sidebar": "Contents",
   "toc_cell": false,
   "toc_position": {},
   "toc_section_display": true,
   "toc_window_display": false
  },
  "vscode": {
   "interpreter": {
    "hash": "01a7be9ec63e704a62cefc5fe7a4756944464ee731be31632bdf42a4cb4688cf"
   }
  }
 },
 "nbformat": 4,
 "nbformat_minor": 5
}
